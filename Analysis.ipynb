{
 "cells": [
  {
   "cell_type": "code",
   "execution_count": 1,
   "metadata": {},
   "outputs": [],
   "source": [
    "import pandas as pd\n",
    "import matplotlib.pyplot as plt\n",
    "import os\n",
    "import numpy as np\n",
    "import seaborn as sns\n",
    "import scanpy as sc\n",
    "from scipy import stats\n",
    "import pickle\n",
    "import scanorama\n",
    "from sklearn.model_selection import train_test_split\n",
    "\n",
    "config = {\n",
    "    # Device\n",
    "    \"processor\": \"Other\",  # 'Other' or 'M' - M is for Mac M1/M2/M3 processors\n",
    "    # 'Data':\n",
    "    \"file\": \"fly_train.h5ad\",  # name of the data file\n",
    "    \"eval_file\": \"fly_eval.h5ad\",  # name of the data file for final evaluation\n",
    "    \"original_file\": \"fly_original.h5ad\",  # name of the original data file\n",
    "    \"batch_file\": \"fly_train_batch.h5ad\",  # name of the batch corrected data file\n",
    "    \"batch_eval_file\": \"fly_eval_batch.h5ad\",  # name of the batch corrected data file for final evaluation\n",
    "    \"batch_original_file\": \"fly_original_batch.h5ad\",  # name of the original data file\n",
    "    \"tissue\": \"head\",  # 'head' or 'body'\n",
    "    \"model_type\": \"cnn\",  # 'CNN' or 'MLP' or 'XGBoost' or 'random_forest' or logistic_regression'\n",
    "    \"encoding_variable\": \"age\",  # variable to use for encoding - (sex_age), (sex), or (age)\n",
    "    \"batch_correction\": False,  # True to perform batch correction, False to skip, (ONLY FOR AGE ENCODING)\n",
    "    \"select_batch_genes\": \"yes\",  # True to select batch genes, False to skip, (ONLY FOR AGE ENCODING)\n",
    "}"
   ]
  },
  {
   "cell_type": "code",
   "execution_count": 5,
   "metadata": {},
   "outputs": [],
   "source": [
    "# Given your imports and path setup\n",
    "Code_dir = os.getcwd()\n",
    "Data_dir = os.path.join(Code_dir, \"Data\", \"h5ad\", config[\"tissue\"])\n",
    "\n",
    "# Path to the h5ad file\n",
    "h5ad_file_path = os.path.join(Data_dir, \"uncorrected\", config[\"file\"])\n",
    "h5ad_eval_file_path = os.path.join(Data_dir, \"uncorrected\", config[\"eval_file\"])\n",
    "h5ad_file_path_original = os.path.join(Data_dir, \"uncorrected\", config[\"original_file\"])\n",
    "\n",
    "# Load the file\n",
    "adata = sc.read_h5ad(h5ad_file_path)\n",
    "adata_eval = sc.read_h5ad(h5ad_eval_file_path)\n",
    "adata_original = sc.read_h5ad(h5ad_file_path_original)\n",
    "\n",
    "# Path to the batch corrected h5ad file\n",
    "h5ad_file_path_corrected = os.path.join(\n",
    "    Data_dir, \"batch_corrected\", config[\"batch_file\"]\n",
    ")\n",
    "h5ad_eval_file_path_corrected = os.path.join(\n",
    "    Data_dir, \"batch_corrected\", config[\"batch_eval_file\"]\n",
    ")\n",
    "h5ad_file_path_original_corrected = os.path.join(\n",
    "    Data_dir, \"batch_corrected\", config[\"batch_original_file\"]\n",
    ")\n",
    "\n",
    "# Load the batch corrected file\n",
    "adata_corrected = sc.read_h5ad(h5ad_file_path_corrected)\n",
    "adata_eval_corrected = sc.read_h5ad(h5ad_eval_file_path_corrected)\n",
    "# adata_original_corrected = sc.read_h5ad(h5ad_file_path_original_corrected)"
   ]
  },
  {
   "cell_type": "code",
   "execution_count": 15,
   "metadata": {},
   "outputs": [
    {
     "name": "stdout",
     "output_type": "stream",
     "text": [
      "Column names in adata.obs: ['tissue', 'sex', 'age', 'sex_age', 'n_genes_by_counts', 'total_counts', 'total_counts_mt', 'pct_counts_mt', 'log1p_n_genes_by_counts', 'log1p_total_counts', 'log1p_total_counts_mt', 'dataset', 'fca_annotation', 'afca_annotation', 'afca_annotation_broad']\n"
     ]
    }
   ],
   "source": [
    "# Print all column names in adata.obs\n",
    "print(\"Column names in adata.obs:\", adata.obs.columns.tolist())"
   ]
  },
  {
   "cell_type": "code",
   "execution_count": 21,
   "metadata": {},
   "outputs": [
    {
     "name": "stdout",
     "output_type": "stream",
     "text": [
      "Unique cell types: ['CNS neuron', 'glial cell', 'epithelial cell', 'sensory neuron', 'hemocyte', ..., 'cardial cell', 'somatic precursor cell', 'male reproductive system', 'female germline cell', 'gland']\n",
      "Length: 16\n",
      "Categories (16, object): ['CNS neuron', 'cardial cell', 'epithelial cell', 'excretory system', ..., 'muscle cell', 'sensory neuron', 'somatic precursor cell', 'tracheal cell']\n",
      "Total number of cells in CNS neuron: 162023\n"
     ]
    }
   ],
   "source": [
    "# Print all unique cell types in the specified column of adata.obs\n",
    "cell_types = adata.obs[\"afca_annotation_broad\"].unique()\n",
    "print(\"Unique cell types:\", cell_types)\n",
    "# Specify the cell type you're interested in\n",
    "specific_cell_type = \"CNS neuron\"\n",
    "\n",
    "# Count the number of cells for the specified cell type\n",
    "cell_count = (adata.obs[\"afca_annotation_broad\"] == specific_cell_type).sum()\n",
    "print(f\"Total number of cells in {specific_cell_type}: {cell_count}\")"
   ]
  },
  {
   "cell_type": "code",
   "execution_count": 8,
   "metadata": {},
   "outputs": [
    {
     "name": "stdout",
     "output_type": "stream",
     "text": [
      "['128up', '18w', '28SrRNA-Psi:CR40596', '5-HT1A', '5-HT2A', '5-HT2B', '5-HT7', 'AANAT1', 'AANATL2', 'ACXB', 'ACXC', 'ACXD', 'AGBE', 'AGO3', 'AIMP3', 'AOX1', 'AOX3', 'AOX4', 'AP-2sigma', 'AQP', 'ARY', 'ASPP', 'ATP7', 'ATPsynepsilonL', 'Aatf', 'Abd-B', 'Ac13E', 'Ac78C', 'Acbp1', 'Acbp2', 'Acbp3', 'Acbp5', 'Achl', 'Acox57D-d', 'Acox57D-p', 'Acp1', 'Acp36DE', 'Acp63F', 'Acp65Aa', 'Act42A', 'Act57B', 'Act79B', 'Act87E', 'Act88F', 'Actn', 'Acyp2', 'AdamTS-A', 'AdamTS-B', 'Adgf-A', 'Adgf-A2', 'Adgf-C', 'Adgf-D', 'Adgf-E', 'Adh', 'Adi1', 'AdoR', 'Ae2', 'AgmNAT', 'Agpat2', 'Agpat4', 'Ahcy', 'AhcyL2', 'Akh', 'AkhR', 'Akr1B', 'Alas', 'Aldh', 'Alg14', 'Alp4', 'Alp6', 'Alp9', 'Ama', 'Amph', 'Amt', 'Amy-p', 'Ance', 'Ance-3', 'Antp', 'AnxB10', 'AnxB9', 'Apc2', 'Apoltp', 'Arc1', 'Arc2', 'Arc42', 'Arfrp1', 'Arl1', 'Arl6', 'Arp5', 'Arpc2', 'Arpc3B', 'Arpc4', 'Arpc5', 'Arr1', 'Arr2', 'Art1', 'AsnS', 'Asph', 'AstA', 'AstA-R1', 'AstA-R2', 'AstC', 'AstC-R1', 'AstC-R2', 'AstCC', 'Atac1', 'Atf-2', 'Atf3', 'Atg12', 'Atg2', 'AttA', 'AttB', 'AttC', 'Atx-1', 'Awh', 'B-H1', 'B-H2', 'BBS4', 'BBS9', 'BCAS2', 'BEAF-32', 'BG642167', 'BOD1', 'Bace', 'Balat', 'Baldspot', 'Bap55', 'Bdbt', 'Best2', 'Bet1', 'Bgb', 'BigH1', 'Bin1', 'Bka', 'Blm', 'Blos3', 'BomBc1', 'BomBc2', 'BomBc3', 'BomS1', 'BomS2', 'BomS3', 'BomS4', 'BomS5', 'BomS6', 'BomT1', 'BomT2', 'BomT3', 'Brca2', 'BthD', 'Btk29A', 'BubR1', 'Buffy', 'Bug22', 'Bx', 'CAH1', 'CAH14', 'CAH2', 'CAH7', 'CAH9', 'CAP', 'CARPA', 'CARPB', 'CBP', 'CCAP', 'CCAP-R', 'CCHa1', 'CCHa1-R', 'CCHa2', 'CCKLR-17D1', 'CCKLR-17D3', 'CCT3', 'CCT5', 'CDase', 'CG10026', 'CG10031', 'CG10035', 'CG10055', 'CG10062', 'CG10073', 'CG10081', 'CG10086', 'CG10116', 'CG10139', 'CG10166', 'CG10171', 'CG10175', 'CG10185', 'CG10189', 'CG10205', 'CG10208', 'CG10211', 'CG10226', 'CG10237', 'CG10264', 'CG10301', 'CG10307', 'CG10311', 'CG10317', 'CG10324', 'CG10333', 'CG10339', 'CG10340', 'CG10343', 'CG10344', 'CG10345', 'CG10348', 'CG10352', 'CG10357', 'CG10359', 'CG10361', 'CG10365', 'CG10383', 'CG10418', 'CG10433', 'CG10444', 'CG10445', 'CG10462', 'CG10463', 'CG10469', 'CG10470', 'CG10472', 'CG10479', 'CG10513', 'CG10514', 'CG10516', 'CG10527', 'CG10550', 'CG10553', 'CG10559', 'CG10560', 'CG10562', 'CG10581', 'CG10602', 'CG10621', 'CG10623', 'CG10657', 'CG10660', 'CG10663', 'CG10674', 'CG10680', 'CG10702', 'CG10737', 'CG10738', 'CG10778', 'CG10799', 'CG10814', 'CG10877', 'CG10911', 'CG10912', 'CG10916', 'CG10932', 'CG10936', 'CG10939', 'CG10943', 'CG10947', 'CG10958', 'CG10960', 'CG11007', 'CG11034', 'CG11035', 'CG11041', 'CG11044', 'CG11060', 'CG11069', 'CG11073', 'CG11077', 'CG11085', 'CG11089', 'CG11103', 'CG11110', 'CG11123', 'CG11134', 'CG11137', 'CG11147', 'CG11159', 'CG11164', 'CG11170', 'CG11180', 'CG11200', 'CG11211', 'CG1124', 'CG11241', 'CG11269', 'CG11275', 'CG1129', 'CG11294', 'CG11298', 'CG11319', 'CG11353', 'CG1136', 'CG11368', 'CG11378', 'CG1139', 'CG11391', 'CG11400', 'CG11403', 'CG11406', 'CG11407', 'CG11409', 'CG11413', 'CG11417', 'CG11425', 'CG11426', 'CG1143', 'CG11438', 'CG11453', 'CG11458', 'CG1146', 'CG11498', 'CG11529', 'CG11550', 'CG11562', 'CG11583', 'CG11585', 'CG11594', 'CG11601', 'CG11617', 'CG11655', 'CG11668', 'CG11679', 'CG11686', 'CG11699', 'CG11741', 'CG11752', 'CG11753', 'CG11760', 'CG11777', 'CG11781', 'CG11786', 'CG11790', 'CG11825', 'CG11835', 'CG11837', 'CG11841', 'CG11842', 'CG11843', 'CG11852', 'CG11854', 'CG11858', 'CG11878', 'CG11882', 'CG11885', 'CG11892', 'CG11899', 'CG11951', 'CG11961', 'CG12056', 'CG12057', 'CG12075', 'CG1208', 'CG12105', 'CG12107', 'CG12111', 'CG12112', 'CG12115', 'CG12116', 'CG12129', 'CG1213', 'CG12158', 'CG12164', 'CG12170', 'CG12171', 'CG12177', 'CG12224', 'CG12237', 'CG12239', 'CG12256', 'CG12268', 'CG1227', 'CG12278', 'CG12279', 'CG12290', 'CG12301', 'CG12321', 'CG12344', 'CG1236', 'CG12374', 'CG12493', 'CG12496', 'CG12507', 'CG12512', 'CG12520', 'CG12535', 'CG12541', 'CG12560', 'CG12581', 'CG12594', 'CG12643', 'CG1265', 'CG12655', 'CG12672', 'CG12702', 'CG12708', 'CG1271', 'CG12723', 'CG12730', 'CG12744', 'CG12766', 'CG12768', 'CG12780', 'CG12811', 'CG12814', 'CG12818', 'CG12824', 'CG12825', 'CG12831', 'CG12836', 'CG12848', 'CG12868', 'CG12880', 'CG12895', 'CG12896', 'CG12911', 'CG12914', 'CG12926', 'CG12935', 'CG12947', 'CG12964', 'CG12970', 'CG12971', 'CG12974', 'CG12986', 'CG1299', 'CG12994', 'CG12995', 'CG12998', 'CG13000', 'CG13003', 'CG13012', 'CG13014', 'CG13018', 'CG13022', 'CG13023', 'CG13024', 'CG13026', 'CG13029', 'CG13041', 'CG13043', 'CG13044', 'CG13046', 'CG13049', 'CG13051', 'CG13054', 'CG13055', 'CG13056', 'CG13059', 'CG13067', 'CG13068', 'CG13069', 'CG1307', 'CG13071', 'CG13073', 'CG13075', 'CG13077', 'CG13078', 'CG13096', 'CG13101', 'CG13114', 'CG13116', 'CG13117', 'CG13124', 'CG13133', 'CG13138', 'CG13177', 'CG13215', 'CG13220', 'CG13229', 'CG13247', 'CG13251', 'CG13252', 'CG13255', 'CG13284', 'CG13285', 'CG13288', 'CG13300', 'CG13306', 'CG13309', 'CG13315', 'CG13318', 'CG13319', 'CG13321', 'CG13323', 'CG13332', 'CG13334', 'CG13360', 'CG13365', 'CG13369', 'CG13377', 'CG13386', 'CG13390', 'CG13392', 'CG13398', 'CG13407', 'CG13408', 'CG13428', 'CG13443', 'CG13449', 'CG13455', 'CG13458', 'CG13482', 'CG13488', 'CG13492', 'CG13516', 'CG13558', 'CG13562', 'CG13563', 'CG13578', 'CG13579', 'CG1358', 'CG13594', 'CG13606', 'CG13607', 'CG13618', 'CG13622', 'CG13623', 'CG13625', 'CG13630', 'CG13631', 'CG13639', 'CG13641', 'CG13643', 'CG13659', 'CG13663', 'CG13670', 'CG13674', 'CG13676', 'CG1368', 'CG13698', 'CG13699', 'CG13704', 'CG13707', 'CG13708', 'CG13711', 'CG13716', 'CG13722', 'CG13727', 'CG13731', 'CG13739', 'CG13742', 'CG13748', 'CG13751', 'CG13773', 'CG13793', 'CG13794', 'CG13796', 'CG13807', 'CG13833', 'CG13840', 'CG13841', 'CG13847', 'CG13856', 'CG13868', 'CG13870', 'CG13875', 'CG13877', 'CG13894', 'CG13898', 'CG13905', 'CG13919', 'CG13926', 'CG13930', 'CG13931', 'CG13947', 'CG13949', 'CG13950', 'CG13965', 'CG13978', 'CG13992', 'CG13994', 'CG13996', 'CG14007', 'CG14013', 'CG14022', 'CG14034', 'CG14044', 'CG14052', 'CG14062', 'CG14074', 'CG14075', 'CG14077', 'CG14086', 'CG14104', 'CG14105', 'CG14107', 'CG14109', 'CG14117', 'CG14130', 'CG14132', 'CG14142', 'CG14153', 'CG14174', 'CG14183', 'CG14187', 'CG14191', 'CG14196', 'CG14205', 'CG14207', 'CG14210', 'CG14221', 'CG14229', 'CG14230', 'CG14238', 'CG14245', 'CG14247', 'CG14253', 'CG14257', 'CG14259', 'CG14270', 'CG14274', 'CG14275', 'CG14277', 'CG14280', 'CG14292', 'CG14298', 'CG14301', 'CG14304', 'CG14309', 'CG14312', 'CG14313', 'CG14322', 'CG14325', 'CG14326', 'CG14327', 'CG14329', 'CG14331', 'CG14340', 'CG14341', 'CG14342', 'CG14355', 'CG14356', 'CG14367', 'CG14377', 'CG14391', 'CG14400', 'CG14401', 'CG14407', 'CG1441', 'CG14419', 'CG14431', 'CG14439', 'CG14445', 'CG14457', 'CG14459', 'CG14483', 'CG14495', 'CG14499', 'CG14511', 'CG14516', 'CG14518', 'CG14540', 'CG14543', 'CG14545', 'CG14561', 'CG14567', 'CG14598', 'CG14606', 'CG1461', 'CG14626', 'CG14629', 'CG14644', 'CG14655', 'CG14661', 'CG14662', 'CG14676', 'CG1468', 'CG14687', 'CG14688', 'CG14692', 'CG14693', 'CG14694', 'CG14696', 'CG14701', 'CG14743', 'CG14752', 'CG14757', 'CG14770', 'CG14778', 'CG14795', 'CG14811', 'CG14812', 'CG14817', 'CG14818', 'CG14823', 'CG14826', 'CG14829', 'CG14830', 'CG14834', 'CG14837', 'CG14854', 'CG14860', 'CG14864', 'CG14880', 'CG14881', 'CG14892', 'CG14913', 'CG14931', 'CG14932', 'CG14947', 'CG14949', 'CG14964', 'CG14966', 'CG14968', 'CG14977', 'CG14984', 'CG14989', 'CG15014', 'CG15019', 'CG15020', 'CG15021', 'CG15027', 'CG1504', 'CG15040', 'CG15043', 'CG15044', 'CG15046', 'CG15056', 'CG15080', 'CG15082', 'CG15083', 'CG15093', 'CG15096', 'CG15097', 'CG15115', 'CG15117', 'CG15120', 'CG15130', 'CG15152', 'CG15155', 'CG15168', 'CG15169', 'CG15186', 'CG15199', 'CG15201', 'CG15202', 'CG15203', 'CG15209', 'CG15210', 'CG15211', 'CG15213', 'CG15236', 'CG15237', 'CG15247', 'CG15249', 'CG15254', 'CG15255', 'CG15279', 'CG15282', 'CG1529', 'CG15293', 'CG15312', 'CG1532', 'CG15322', 'CG15330', 'CG15347', 'CG15353', 'CG15362', 'CG15365', 'CG15368', 'CG15369', 'CG1537', 'CG15387', 'CG15394', 'CG15395', 'CG15412', 'CG15414', 'CG1542', 'CG15422', 'CG15431', 'CG15432', 'CG15449', 'CG1545', 'CG15458', 'CG15468', 'CG15478', 'CG15497', 'CG15506', 'CG15515', 'CG1552', 'CG15522', 'CG15525', 'CG15528', 'CG15529', 'CG15530', 'CG15531', 'CG15536', 'CG15537', 'CG15539', 'CG15543', 'CG15544', 'CG15545', 'CG15546', 'CG15549', 'CG15550', 'CG15561', 'CG15570', 'CG15599', 'CG1561', 'CG15611', 'CG15625', 'CG15629', 'CG15646', 'CG15653', 'CG15673', 'CG15674', 'CG15695', 'CG15706', 'CG15715', 'CG15717', 'CG1572', 'CG15728', 'CG15731', 'CG15739', 'CG15740', 'CG1575', 'CG15765', 'CG15784', 'CG15800', 'CG15812', 'CG15820', 'CG15822', 'CG15861', 'CG15876', 'CG15877', 'CG15878', 'CG15879', 'CG15888', 'CG15890', 'CG15891', 'CG15908', 'CG15916', 'CG15922', 'CG15927', 'CG15930', 'CG1598', 'CG1620', 'CG1632', 'CG1662', 'CG16700', 'CG16704', 'CG16713', 'CG1673', 'CG1674', 'CG16743', 'CG16756', 'CG16758', 'CG16762', 'CG16772', 'CG16786', 'CG16787', 'CG16790', 'CG16798', 'CG16799', 'CG16820', 'CG16826', 'CG16854', 'CG16865', 'CG1688', 'CG16898', 'CG16926', 'CG16935', 'CG16959', 'CG16978', 'CG1698', 'CG16985', 'CG16989', 'CG17002', 'CG17005', 'CG17026', 'CG17027', 'CG17032', 'CG17036', 'CG17047', 'CG17068', 'CG17104', 'CG17107', 'CG17108', 'CG17111', 'CG17119', 'CG17121', 'CG17124', 'CG17127', 'CG17141', 'CG17167', 'CG17177', 'CG17189', 'CG17190', 'CG17192', 'CG17193', 'CG17196', 'CG17202', 'CG17211', 'CG17219', 'CG17224', 'CG17266', 'CG17271', 'CG17278', 'CG17279', 'CG17292', 'CG17329', 'CG17333', 'CG17350', 'CG17359', 'CG17385', 'CG17440', 'CG17490', 'CG17549', 'CG17564', 'CG17572', 'CG17574', 'CG17575', 'CG17597', 'CG17600', 'CG17633', 'CG17646', 'CG17650', 'CG17658', 'CG17672', 'CG17681', 'CG17721', 'CG17738', 'CG1774', 'CG17751', 'CG17752', 'CG17776', 'CG17777', 'CG17834', 'CG17839', 'CG1785', 'CG1789', 'CG17904', 'CG1791', 'CG17919', 'CG17928', 'CG17929', 'CG17974', 'CG17996', 'CG18003', 'CG1801', 'CG1806', 'CG18067', 'CG18081', 'CG18094', 'CG18130', 'CG18178', 'CG18180', 'CG18190', 'CG18213', 'CG18268', 'CG18301', 'CG18302', 'CG18304', 'CG18343', 'CG18367', 'CG18368', 'CG1847', 'CG18473', 'CG18480', 'CG1850', 'CG18547', 'CG18557', 'CG18598', 'CG18599', 'CG18635', 'CG18641', 'CG18661', 'CG18745', 'CG18788', 'CG18789', 'CG18814', 'CG18823', 'CG1889', 'CG1890', 'CG1941', 'CG1958', 'CG1979', 'CG2004', 'CG2006', 'CG2016', 'CG2021', 'CG2059', 'CG2064', 'CG2065', 'CG2076', 'CG2082', 'CG2100', 'CG2116', 'CG2121', 'CG2129', 'CG2145', 'CG2150', 'CG2157', 'CG2199', 'CG2200', 'CG2201', 'CG2233', 'CG2277', 'CG2310', 'CG2493', 'CG2556', 'CG2614', 'CG2641', 'CG2663', 'CG2694', 'CG2712', 'CG2736', 'CG2767', 'CG2790', 'CG2811', 'CG2812', 'CG2839', 'CG2841', 'CG2846', 'CG2861', 'CG2871', 'CG2887', 'CG2921', 'CG2930', 'CG2990', 'CG30001', 'CG30016', 'CG30022', 'CG30033', 'CG30047', 'CG30050', 'CG30069', 'CG3008', 'CG30082', 'CG30083', 'CG30095', 'CG30116', 'CG3014', 'CG30151', 'CG30154', 'CG30158', 'CG30159', 'CG30195', 'CG30197', 'CG30203', 'CG30222', 'CG30259', 'CG30271', 'CG30285', 'CG30286', 'CG30289', 'CG30291', 'CG30324', 'CG30338', 'CG30340', 'CG30344', 'CG30345', 'CG30349', 'CG3036', 'CG30373', 'CG30377', 'CG3038', 'CG30380', 'CG30383', 'CG30384', 'CG30385', 'CG30394', 'CG30414', 'CG30427', 'CG30429', 'CG30440', 'CG30456', 'CG30460', 'CG30485', 'CG3088', 'CG3091', 'CG3097', 'CG31010', 'CG31028', 'CG31029', 'CG3106', 'CG31075', 'CG31076', 'CG31089', 'CG31100', 'CG31102', 'CG31103', 'CG31106', 'CG31111', 'CG31121', 'CG31125', 'CG31126', 'CG31145', 'CG31176', 'CG31183', 'CG31189', 'CG31198', 'CG31199', 'CG31200', 'CG31205', 'CG31206', 'CG31207', 'CG31221', 'CG31248', 'CG31262', 'CG31272', 'CG31278', 'CG31279', 'CG31288', 'CG31300', 'CG31313', 'CG31321', 'CG31323', 'CG31324', 'CG31326', 'CG31343', 'CG31344', 'CG31345', 'CG31431', 'CG31436', 'CG31460', 'CG31469', 'CG31493', 'CG31517', 'CG31522', 'CG31523', 'CG31548', 'CG31549', 'CG31551', 'CG31612', 'CG31626', 'CG31636', 'CG31663', 'CG31673', 'CG31675', 'CG31676', 'CG3168', 'CG31689', 'CG31690', 'CG31694', 'CG31698', 'CG31704', 'CG31705', 'CG31706', 'CG31717', 'CG31769', 'CG31777', 'CG31778', 'CG31797', 'CG31809', 'CG31810', 'CG31817', 'CG31823', 'CG31826', 'CG31862', 'CG31869', 'CG31871', 'CG31875', 'CG31897', 'CG3191', 'CG31921', 'CG31924', 'CG31937', 'CG31955', 'CG31957', 'CG31974', 'CG31999', 'CG32006', 'CG32024', 'CG32026', 'CG32032', 'CG32036', 'CG32037', 'CG32040', 'CG32052', 'CG32054', 'CG32066', 'CG32069', 'CG32074', 'CG32091', 'CG32095', 'CG32115', 'CG32121', 'CG32137', 'CG32147', 'CG32163', 'CG32170', 'CG32181', 'CG32195', 'CG32196', 'CG32202', 'CG32204', 'CG32219', 'CG32260', 'CG32267', 'CG32271', 'CG32277', 'CG32278', 'CG32280', 'CG32313', 'CG32354', 'CG32365', 'CG32368', 'CG32369', 'CG32407', 'CG32432', 'CG32441', 'CG32444', 'CG32447', 'CG32448', 'CG32459', 'CG3246', 'CG32461', 'CG32473', 'CG32512', 'CG32521', 'CG32523', 'CG3253', 'CG32532', 'CG32547', 'CG32548', 'CG32564', 'CG32568', 'CG32579', 'CG32590', 'CG32591', 'CG32599', 'CG32603', 'CG32645', 'CG32683', 'CG32687', 'CG32694', 'CG32695', 'CG32700', 'CG32719', 'CG32726', 'CG3277', 'CG32816', 'CG32855', 'CG3294', 'CG32982', 'CG3301', 'CG33017', 'CG33051', 'CG33054', 'CG33056', 'CG3306', 'CG33060', 'CG3308', 'CG33096', 'CG33098', 'CG33107', 'CG33110', 'CG33125', 'CG33136', 'CG33158', 'CG33159', 'CG33169', 'CG33172', 'CG33178', 'CG33181', 'CG33230', 'CG33252', 'CG33258', 'CG33270', 'CG3328', 'CG33284', 'CG33286', 'CG33288', 'CG33296', 'CG33301', 'CG3335', 'CG3337', 'CG3339', 'CG33469', 'CG3347', 'CG3348', 'CG3349', 'CG33490', 'CG33493', 'CG33494', 'CG33521', 'CG33523', 'CG33557', 'CG33630', 'CG33632', 'CG33639', 'CG33669', 'CG33680', 'CG33700', 'CG3376', 'CG33774', 'CG33777', 'CG33784', 'CG33792', 'CG33926', 'CG33928', 'CG33939', 'CG33946', 'CG33958', 'CG33965', 'CG33966', 'CG3397', 'CG33970', 'CG33978', 'CG33993', 'CG34015', 'CG34021', 'CG34026', 'CG34034', 'CG34041', 'CG34043', 'CG34056', 'CG34057', 'CG3408', 'CG34109', 'CG34112', 'CG34115', 'CG34116', 'CG34117', 'CG34120', 'CG34125', 'CG34132', 'CG34136', 'CG34150', 'CG34162', 'CG34163', 'CG34165', 'CG34166', 'CG34171', 'CG34172', 'CG34174', 'CG34175', 'CG34180', 'CG3420', 'CG34200', 'CG34208', 'CG34212', 'CG34213', 'CG34215', 'CG34220', 'CG34221', 'CG34222', 'CG34227', 'CG34229', 'CG34231', 'CG34232', 'CG34244', 'CG34251', 'CG34253', 'CG34265', 'CG34289', 'CG34291', 'CG34301', 'CG34305', 'CG34308', 'CG34309', 'CG34325', 'CG34327', 'CG34330', 'CG34331', 'CG34338', 'CG34342', 'CG34347', 'CG34351', 'CG34353', 'CG34354', 'CG34357', 'CG34367', 'CG34370', 'CG34375', 'CG34377', 'CG34386', 'CG34393', 'CG34396', 'CG34398', 'CG34402', 'CG34417', 'CG34423', 'CG34437', 'CG34442', 'CG34445', 'CG34446', 'CG34451', 'CG34454', 'CG34456', 'CG34461', 'CG3448', 'CG3492', 'CG3500', 'CG3505', 'CG3513', 'CG3527', 'CG3528', 'CG3542', 'CG3566', 'CG3587', 'CG3588', 'CG3594', 'CG3597', 'CG3603', 'CG3604', 'CG3609', 'CG3630', 'CG3635', 'CG3640', 'CG3655', 'CG3663', 'CG3679', 'CG3699', 'CG3700', 'CG3726', 'CG3746', 'CG3781', 'CG3817', 'CG3823', 'CG3829', 'CG3831', 'CG3842', 'CG3857', 'CG3868', 'CG3902', 'CG3909', 'CG3918', 'CG3961', 'CG4000', 'CG40006', 'CG40160', 'CG40198', 'CG40298', 'CG4038', 'CG40470', 'CG40485', 'CG40486', 'CG40813', 'CG4101', 'CG4115', 'CG41284', 'CG41520', 'CG4168', 'CG4186', 'CG4194', 'CG4210', 'CG4213', 'CG4218', 'CG42235', 'CG42237', 'CG42246', 'CG42269', 'CG42299', 'CG42307', 'CG42319', 'CG42324', 'CG42326', 'CG42327', 'CG42329', 'CG42331', 'CG42339', 'CG42340', 'CG42342', 'CG42346', 'CG42359', 'CG42365', 'CG42366', 'CG42367', 'CG42369', 'CG4239', 'CG42390', 'CG42394', 'CG42397', 'CG42402', 'CG42445', 'CG42446', 'CG42449', 'CG42458', 'CG42471', 'CG42489', 'CG42495', 'CG4250', 'CG42512', 'CG42514', 'CG42518', 'CG42524', 'CG42534', 'CG42540', 'CG42541', 'CG42559', 'CG42561', 'CG42562', 'CG42580', 'CG42591', 'CG42594', 'CG42598', 'CG42613', 'CG42615', 'CG42656', 'CG4267', 'CG42673', 'CG42674', 'CG42675', 'CG42676', 'CG4269', 'CG42697', 'CG42700', 'CG42710', 'CG42711', 'CG42733', 'CG42741', 'CG42750', 'CG42764', 'CG42766', 'CG42788', 'CG42789', 'CG42792', 'CG42807', 'CG42808', 'CG4281', 'CG42813', 'CG42821', 'CG42822', 'CG42825', 'CG42827', 'CG42831', 'CG42846', 'CG42847', 'CG42853', 'CG4301', 'CG43051', 'CG43057', 'CG4306', 'CG43071', 'CG43074', 'CG43078', 'CG43083', 'CG43091', 'CG43092', 'CG43093', 'CG43094', 'CG43095', 'CG43101', 'CG43103', 'CG43107', 'CG43112', 'CG43114', 'CG43115', 'CG43138', 'CG43149', 'CG43153', 'CG43155', 'CG43156', 'CG43165', 'CG43168', 'CG43169', 'CG43175', 'CG43198', 'CG43219', 'CG43220', 'CG43232', 'CG43233', 'CG43236', 'CG4324', 'CG43244', 'CG43277', 'CG43291', 'CG43313', 'CG43315', 'CG43321', 'CG43338', 'CG43339', 'CG43340', 'CG43341', 'CG43348', 'CG43349', 'CG43366', 'CG43373', 'CG43376', 'CG43386', 'CG43394', 'CG43402', 'CG4341', 'CG43438', 'CG4363', 'CG43630', 'CG43658', 'CG43673', 'CG43679', 'CG43680', 'CG43689', 'CG43691', 'CG43693', 'CG43694', 'CG4374', 'CG43755', 'CG43759', 'CG4377', 'CG43795', 'CG43797', 'CG43841', 'CG43861', 'CG43897', 'CG4390', 'CG43902', 'CG43920', 'CG43968', 'CG43980', 'CG44085', 'CG4409', 'CG44153', 'CG44163', 'CG44195', 'CG44242', 'CG44243', 'CG44249', 'CG44250', 'CG44251', 'CG44257', 'CG44314', 'CG44325', 'CG44422', 'CG44428', 'CG4455', 'CG4456', 'CG44569', 'CG4461', 'CG4462', 'CG44624', 'CG44625', 'CG4467', 'CG4476', 'CG44774', 'CG44815', 'CG44836', 'CG44837', 'CG4496', 'CG45002', 'CG45061', 'CG45076', 'CG45078', 'CG45079', 'CG45080', 'CG45105', 'CG45263', 'CG45273', 'CG4546', 'CG45490', 'CG4553', 'CG4563', 'CG4565', 'CG4572', 'CG4576', 'CG4577', 'CG4592', 'CG4594', 'CG4598', 'CG46025', 'CG4607', 'CG4610', 'CG4619', 'CG4622', 'CG4630', 'CG46339', 'CG46385', 'CG46395', 'CG46398', 'CG46448', 'CG4646', 'CG4679', 'CG4681', 'CG4704', 'CG4716', 'CG4730', 'CG4733', 'CG4752', 'CG4757', 'CG4766', 'CG4789', 'CG4797', 'CG4806', 'CG4822', 'CG4829', 'CG4839', 'CG4842', 'CG4847', 'CG4860', 'CG4866', 'CG4872', 'CG4914', 'CG4928', 'CG4945', 'CG4950', 'CG4962', 'CG4968', 'CG4982', 'CG4991', 'CG5001', 'CG5002', 'CG5004', 'CG5009', 'CG5011', 'CG5013', 'CG5023', 'CG5048', 'CG5056', 'CG5065', 'CG5070', 'CG5080', 'CG5103', 'CG5104', 'CG5107', 'CG5139', 'CG5151', 'CG5160', 'CG5162', 'CG5171', 'CG5172', 'CG5177', 'CG5180', 'CG5191', 'CG5254', 'CG5276', 'CG5280', 'CG5292', 'CG5326', 'CG5335', 'CG5346', 'CG5376', 'CG5377', 'CG5388', 'CG5390', 'CG5397', 'CG5399', 'CG5404', 'CG5418', 'CG5435', 'CG5506', 'CG5515', 'CG5532', 'CG5535', 'CG5590', 'CG5597', 'CG5608', 'CG5612', 'CG5639', 'CG5645', 'CG5653', 'CG5662', 'CG5665', 'CG5687', 'CG5704', 'CG5707', 'CG5731', 'CG5745', 'CG5756', 'CG5768', 'CG5773', 'CG5783', 'CG5789', 'CG5793', 'CG5808', 'CG5835', 'CG5846', 'CG5853', 'CG5862', 'CG5867', 'CG5883', 'CG5885', 'CG5888', 'CG5895', 'CG5909', 'CG5910', 'CG5921', 'CG5928', 'CG5945', 'CG5948', 'CG5953', 'CG5955', 'CG5958', 'CG5966', 'CG5973', 'CG5984', 'CG6006', 'CG6023', 'CG6026', 'CG6028', 'CG6040', 'CG6048', 'CG6055', 'CG6059', 'CG6066', 'CG6067', 'CG6073', 'CG6094', 'CG6106', 'CG6123', 'CG6125', 'CG6126', 'CG6153', 'CG6178', 'CG6180', 'CG6218', 'CG6225', 'CG6231', 'CG6280', 'CG6290', 'CG6293', 'CG6295', 'CG6321', 'CG6345', 'CG6356', 'CG6357', 'CG6362', 'CG6388', 'CG6398', 'CG6403', 'CG6409', 'CG6415', 'CG6421', 'CG6425', 'CG6426', 'CG6429', 'CG6431', 'CG6435', 'CG6443', 'CG6465', 'CG6472', 'CG6484', 'CG6503', 'CG6523', 'CG6553', 'CG6574', 'CG6610', 'CG6638', 'CG6652', 'CG6675', 'CG6693', 'CG6701', 'CG6712', 'CG6723', 'CG6733', 'CG6739', 'CG6753', 'CG6761', 'CG6762', 'CG6770', 'CG6785', 'CG6793', 'CG6830', 'CG6833', 'CG6834', 'CG6836', 'CG6839', 'CG6847', 'CG6870', 'CG6878', 'CG6891', 'CG6903', 'CG6908', 'CG6910', 'CG6928', 'CG6937', 'CG6959', 'CG6967', 'CG6972', 'CG6984', 'CG7006', 'CG7016', 'CG7054', 'CG7059', 'CG7069', 'CG7079', 'CG7084', 'CG7130', 'CG7135', 'CG7168', 'CG7182', 'CG7191', 'CG7194', 'CG7201', 'CG7203', 'CG7208', 'CG7214', 'CG7227', 'CG7236', 'CG7239', 'CG7251', 'CG7255', 'CG7264', 'CG7265', 'CG7272', 'CG7294', 'CG7296', 'CG7299', 'CG7300', 'CG7322', 'CG7328', 'CG7341', 'CG7342', 'CG7352', 'CG7365', 'CG7381', 'CG7394', 'CG7402', 'CG7408', 'CG7409', 'CG7420', 'CG7430', 'CG7432', 'CG7457', 'CG7470', 'CG7488', 'CG7497', 'CG7504', 'CG7509', 'CG7523', 'CG7544', 'CG7560', 'CG7573', 'CG7582', 'CG7607', 'CG7632', 'CG7675', 'CG7685', 'CG7692', 'CG7695', 'CG7702', 'CG7720', 'CG7724', 'CG7730', 'CG7742', 'CG7763', 'CG7778', 'CG7789', 'CG7800', 'CG7824', 'CG7829', 'CG7834', 'CG7839', 'CG7860', 'CG7872', 'CG7881', 'CG7888', 'CG7889', 'CG7896', 'CG7906', 'CG7910', 'CG7912', 'CG7916', 'CG7924', 'CG7966', 'CG7970', 'CG7988', 'CG7991', 'CG7997', 'CG8008', 'CG8009', 'CG8012', 'CG8034', 'CG8046', 'CG8051', 'CG8065', 'CG8066', 'CG8086', 'CG8087', 'CG8097', 'CG8111', 'CG8112', 'CG8132', 'CG8142', 'CG8157', 'CG8170', 'CG8172', 'CG8180', 'CG8191', 'CG8192', 'CG8199', 'CG8206', 'CG8229', 'CG8230', 'CG8237', 'CG8249', 'CG8299', 'CG8303', 'CG8306', 'CG8312', 'CG8314', 'CG8329', 'CG8343', 'CG8369', 'CG8389', 'CG8397', 'CG8399', 'CG8401', 'CG8414', 'CG8441', 'CG8468', 'CG8483', 'CG8492', 'CG8501', 'CG8519', 'CG8539', 'CG8545', 'CG8547', 'CG8549', 'CG8560', 'CG8563', 'CG8568', 'CG8569', 'CG8586', 'CG8611', 'CG8620', 'CG8630', 'CG8641', 'CG8646', 'CG8654', 'CG8665', 'CG8675', 'CG8736', 'CG8738', 'CG8740', 'CG8745', 'CG8774', 'CG8778', 'CG8785', 'CG8800', 'CG8818', 'CG8834', 'CG8837', 'CG8838', 'CG8839', 'CG8852', 'CG8854', 'CG8860', 'CG8861', 'CG8870', 'CG8888', 'CG8891', 'CG8907', 'CG8916', 'CG8925', 'CG8927', 'CG8945', 'CG8993', 'CG9004', 'CG9021', 'CG9034', 'CG9065', 'CG9067', 'CG9095', 'CG9107', 'CG9109', 'CG9114', 'CG9117', 'CG9119', 'CG9123', 'CG9149', 'CG9205', 'CG9215', 'CG9220', 'CG9253', 'CG9269', 'CG9297', 'CG9312', 'CG9314', 'CG9328', 'CG9336', 'CG9338', 'CG9344', 'CG9360', 'CG9372', 'CG9377', 'CG9380', 'CG9394', 'CG9396', 'CG9399', 'CG9400', 'CG9411', 'CG9416', 'CG9436', 'CG9444', 'CG9447', 'CG9449', 'CG9451', 'CG9452', 'CG9467', 'CG9471', 'CG9485', 'CG9492', 'CG9497', 'CG9498', 'CG9512', 'CG9514', 'CG9519', 'CG9541', 'CG9547', 'CG9568', 'CG9572', 'CG9577', 'CG9626', 'CG9628', 'CG9631', 'CG9643', 'CG9649', 'CG9650', 'CG9657', 'CG9663', 'CG9664', 'CG9676', 'CG9682', 'CG9686', 'CG9689', 'CG9691', 'CG9701', 'CG9717', 'CG9733', 'CG9743', 'CG9747', 'CG9757', 'CG9759', 'CG9782', 'CG9804', 'CG9812', 'CG9815', 'CG9826', 'CG9861', 'CG9864', 'CG9876', 'CG9890', 'CG9896', 'CG9920', 'CG9921', 'CG9922', 'CG9928', 'CG9932', 'CG9961', 'CG9981', 'CHKov2', 'CHORD', 'CIA30', 'CLIP-190', 'CNMa', 'CNMaR', 'CNPYb', 'CNT2', 'CPT2', 'CR12628', 'CR15280', 'CR15345', 'CR17024', 'CR18228', 'CR30029', 'CR31032', 'CR32733', 'CR33294', 'CR43100', 'CR44003', 'CR45716', 'CR4575', 'CR45946', 'CR46232', 'CR46447', 'Ca-alpha1T', 'Cad74A', 'Cad86C', 'Cad87A', 'Cad88C', 'Cad89D', 'Cad96Ca', 'Cad96Cb', 'Cad99C', 'CadN2', 'Caf1-180', 'CalpB', 'CanA1', 'Cap-D2', 'Capa', 'Cat', 'Cbp20', 'Cbp53E', 'Ccdc85', 'Cchl', 'Ccm3', 'Ccn', 'Ccz1', 'Cda4', 'Cda5', 'Cdk1', 'Cdk4', 'CecA1', 'CecA2', 'CecB', 'CecC', 'Cenp-C', 'Cep135', 'ChLD3', 'Charon', 'Chchd2', 'Chd3', 'CheA75a', 'CheA7a', 'CheA87a', 'CheB38b', 'CheB38c', 'CheB42a', 'CheB42b', 'CheB93b', 'Chmp1', 'Chrac-14', 'Chrac-16', 'Chs2', 'Cht10', 'Cht11', 'Cht2', 'Cht5', 'Cht6', 'Cht7', 'Cht8', 'Ciao1', 'Cks85A', 'ClC-a', 'Claspin', 'Clk', 'Cln3', 'Cln7', 'ClpP', 'Cluap1', 'Cnb', 'CngA', 'Cngl', 'Coa8', 'Cog7', 'Col4a1', 'Con', 'Coop', 'Coq2', 'Coq3', 'Coq7', 'Corp', 'Cp19', 'Cpr100A', 'Cpr11B', 'Cpr31A', 'Cpr47Ea', 'Cpr47Ee', 'Cpr47Ef', 'Cpr47Eg', 'Cpr49Aa', 'Cpr49Ab', 'Cpr49Ac', 'Cpr49Ae', 'Cpr49Af', 'Cpr49Ag', 'Cpr49Ah', 'Cpr50Ca', 'Cpr50Cb', 'Cpr51A', 'Cpr60D', 'Cpr62Ba', 'Cpr62Bb', 'Cpr62Bc', 'Cpr64Ac', 'Cpr65Au', 'Cpr66D', 'Cpr67B', 'Cpr72Ec', 'Cpr73D', 'Cpr76Ba', 'Cpr76Bc', 'Cpr76Bd', 'Cpr92A', 'Cpr97Ea', 'Cpr97Eb', 'Cralbp', 'CrebA', 'Crg-1', 'Crys', 'Crz', 'CrzR', 'Csas', 'Csl4', 'Ctf4', 'Ctr1B', 'CycA', 'CycB', 'CycB3', 'CycC', 'CycD', 'CycE', 'CycH', 'Cyp12a4', 'Cyp12a5', 'Cyp12e1', 'Cyp18a1', 'Cyp28a5', 'Cyp28c1', 'Cyp28d1', 'Cyp301a1', 'Cyp304a1', 'Cyp305a1', 'Cyp308a1', 'Cyp311a1', 'Cyp312a1', 'Cyp313a1', 'Cyp313a4', 'Cyp313b1', 'Cyp317a1', 'Cyp4aa1', 'Cyp4ac3', 'Cyp4ad1', 'Cyp4c3', 'Cyp4d1', 'Cyp4d20', 'Cyp4d21', 'Cyp4d8', 'Cyp4e1', 'Cyp4e2', 'Cyp4e3', 'Cyp4g15', 'Cyp4p1', 'Cyp6a13', 'Cyp6a2', 'Cyp6a20', 'Cyp6a21', 'Cyp6a23', 'Cyp6a8', 'Cyp6a9', 'Cyp6d2', 'Cyp6d5', 'Cyp6g1', 'Cyp6t3', 'Cyp6v1', 'Cyp6w1', 'Cyp9b2', 'Cyp9c1', 'Cyp9f2', 'Cyp9f3', 'Cyp9h1', 'Cys', 'Cyt-b5-r', 'D', 'D12', 'D2hgdh', 'DAAM', 'DAT', 'DCP1', 'DCTN6-p27', 'DCX-EMAP', 'DEF8', 'DIP-beta', 'DIP-delta', 'DIP-epsilon', 'DIP-eta', 'DIP-gamma', 'DIP-iota', 'DIP-kappa', 'DIP-lambda', 'DIP-theta', 'DIP-zeta', 'DNAlig1', 'DUBAI', 'Dad1', 'Damm', 'Dbx', 'Ddc', 'Debcl', 'Decay', 'Def', 'Desat1', 'Det', 'Dfd', 'Dgat2', 'Dgk', 'Dgp-1', 'Dh31', 'Dh31-R', 'Dh44', 'Dh44-R1', 'Dh44-R2', 'Dhc36C', 'Dhc62B', 'Dhc93AB', 'Dhfr', 'DhpD', 'Dhpr', 'Diedel', 'Dif', 'Dim1', 'Dip-B', 'Dl', 'Dll', 'Doa', 'Doc1', 'Dok', 'Dop1R1', 'Dop1R2', 'Dop2R', 'Dpck', 'Dph5', 'Dpit47', 'DptA', 'DptB', 'Dpy-30L1', 'Dr', 'Drak', 'Drat', 'Dredd', 'Drep3', 'Drgx', 'Drip', 'Dro', 'Drs', 'Drsl2', 'Drsl4', 'Drsl5', 'Dscam2', 'Dscam3', 'Dscam4', 'Dsk', 'Dtg', 'Duox', 'Dys', 'E(spl)m2-BFM', 'E(spl)m3-HLH', 'E(spl)m6-BFM', 'E(spl)m7-HLH', 'E(spl)m8-HLH', 'E(spl)malpha-BFM', 'E(spl)mbeta-HLH', 'E(spl)mdelta-HLH', 'E(spl)mgamma-HLH', 'E23', 'E5', 'ELOVL', 'EMRE', 'ETHR', 'Eaat1', 'EbpIII', 'Echs1', 'Ect3', 'Edg91', 'Egfr', 'Eglp2', 'Eglp4', 'Eig71Ej', 'Eip55E', 'Eip63F-1', 'Eip71CD', 'Eip93F', 'Elal', 'Elk', 'EndoGI', 'EndoU', 'Esp', 'Est-6', 'Ets21C', 'Ets65A', 'Ets96B', 'Ets98B', 'FANCI', 'FASN1', 'FASN2', 'FASN3', 'FER', 'FMRFa', 'Faa', 'Fancl', 'Fas2', 'Fas3', 'Fatp1', 'Fatp2', 'Fatp3', 'Fbp1', 'Fbp2', 'Fbxl7', 'Fcp3C', 'Fdh', 'Fdx2', 'Fen1', 'Fer1', 'Fhos', 'Fib', 'Fibp', 'Fife', 'Fili', 'Fip1', 'FipoQ', 'Fit2', 'Fkbp14', 'Fkbp39', 'Fmo-1', 'Fmo-2', 'Fpps', 'Frq1', 'Frq2', 'Fs', 'Fur1', 'GATAe', 'GCS2beta', 'GEFmeso', 'GIIIspla2', 'GILT2', 'GLS', 'GLaz', 'GNBP-like3', 'GNBP1', 'GNBP2', 'GNBP3', 'GPHR', 'GV1', 'Gad1', 'Gadd45', 'Gagr', 'Gal', 'Gale', 'Galphaf', 'Galphai', 'Galt', 'Gart', 'Gasp', 'Gat', 'Gbp1', 'Gbp2', 'Gbp3', 'Gbs-70E', 'GckIII', 'Gclc', 'Gdap1', 'Gdn1', 'Gen', 'Gfat1', 'Gfat2', 'Gfrl', 'Ggamma30A', 'Ggt-1', 'Gip', 'Gk2', 'GlcAT-P', 'GlcT', 'Gld', 'Gld2', 'Gli', 'Glo1', 'Glt', 'GluClalpha', 'GluRIB', 'GluRIIA', 'Glyat', 'Gmap', 'Gnf1', 'Gnmt', 'Golgin104', 'Gp150', 'Gpb5', 'Gprk2', 'Gr21a', 'Gr28b', 'Gr33a', 'Gr36a', 'Gr39b', 'Gr43a', 'Gr64a', 'Gr64f', 'Gr8a', 'Gr93b', 'Grd', 'Grip', 'Grx1', 'Gs2', 'Gsc', 'GstD1', 'GstD10', 'GstD11', 'GstD2', 'GstD3', 'GstD4', 'GstD5', 'GstD8', 'GstD9', 'GstE1', 'GstE10', 'GstE11', 'GstE12', 'GstE14', 'GstE2', 'GstE3', 'GstE4', 'GstE5', 'GstE6', 'GstE7', 'GstE8', 'GstE9', 'GstO1', 'GstO2', 'GstO3', 'GstS1', 'GstT3', 'GstT4', 'GstZ1', 'GstZ2', 'Gtp-bp', 'Gyc32E', 'Gyc88E', 'H15', 'H2.0', 'HGTX', 'HHEX', 'HINT1', 'HLH4C', 'HP4', 'HSPC300', 'Hacd1', 'Had1', 'Had2', 'Hayan', 'Hex-A', 'Hex-C', 'Hex-t1', 'Hex-t2', 'Hexo2', 'Hey', 'Hf', 'Hil', 'His-Psi:CR33867', 'His2B:CG33868', 'Hlc', 'Hmgcl', 'Hml', 'Hmx', 'Hn', 'HnRNP-K', 'Hnf4', 'Ho', 'Hpd', 'Hr38', 'Hr4', 'Hr51', 'Hr83', 'Hsc70-1', 'Hsc70-3', 'Hsp23', 'Hsp26', 'Hsp27', 'Hsp67Bc', 'Hsp68', 'Hsp70Aa', 'Hsp70Ab', 'Hsp70Ba', 'Hsp70Bb', 'Hsp70Bc', 'Hsp83', 'Hug', 'Hyccin', 'IA-2', 'IFT43', 'IFT46', 'IFT57', 'IM14', 'IM33', 'IM4', 'IP3K1', 'IP3K2', 'IRSp53', 'ITP', 'Ibf1', 'Ibf2', 'Ice1', 'Idgf1', 'Idgf2', 'Idgf3', 'Idgf4', 'Idgf5', 'Ilk', 'Ilp2', 'Ilp3', 'Ilp5', 'Ilp6', 'Ilp8', 'ImpE1', 'ImpE3', 'ImpL1', 'ImpL2', 'InR', 'Indy', 'Inos', 'IntS11', 'Invadolysin', 'Inx2', 'Inx3', 'Ipk1', 'Ipk2', 'Ir21a', 'Ir25a', 'Ir31a', 'Ir40a', 'Ir41a', 'Ir47a', 'Ir52b', 'Ir60a', 'Ir60e', 'Ir64a', 'Ir75a', 'Ir75b', 'Ir75c', 'Ir75d', 'Ir76a', 'Ir76b', 'Ir84a', 'Ir8a', 'Ir92a', 'Ir94a', 'Ir94d', 'Ir94e', 'Irbp18', 'Irc', 'Iris', 'Irk1', 'Irk2', 'Irk3', 'Irp-1B', 'JTBR', 'Jabba', 'Jafrac2', 'JhI-21', 'JhI-26', 'Jhe', 'Jhedup', 'Jheh1', 'Jheh2', 'Jheh3', 'Jon25Bi', 'Jon25Bii', 'Jon65Ai', 'Jon65Aiii', 'Jon65Aiv', 'Jon66Cii', 'Jon74E', 'Jon99Ci', 'Jon99Cii', 'Jon99Ciii', 'Jra', 'Jwa', 'KCNQ', 'KFase', 'Kah', 'Kal1', 'Kank', 'Karl', 'Kaz1-ORFB', 'Kebab', 'Kif19A', 'Kif3C', 'Klp3A', 'Klp54D', 'Klp67A', 'Kmn2', 'Kr-h2', 'Kua', 'Kyat', 'LManII', 'LManVI', 'LSm1', 'LSm7', 'LUBEL', 'La', 'Lac', 'LanA', 'LanB1', 'LanB2', 'Lapsyn', 'Las', 'Lcp4', 'Lcp65Ac', 'Lcp65Ag2', 'Lcp65Ag3', 'Ldh', 'Ldsdh1', 'Lfg', 'Lgr1', 'Lgr3', 'Lgr4', 'Lim1', 'Lim3', 'Lip2', 'Lip4', 'List', 'Listericin', 'Lk', 'Lkr', 'Lmpt', 'Lmx1a', 'Loxl2', 'LpR1', 'LpR2', 'Lpt', 'Lrpprc2', 'Lrt', 'Lsd-1', 'Lsd-2', 'Lsm10', 'Lsp1beta', 'Lsp2', 'Lst', 'LysB', 'LysC', 'LysD', 'LysE', 'LysP', 'LysS', 'MAGE', 'MED10', 'MED27', 'MESR3', 'MFS14', 'MFS16', 'MFS3', 'MFS9', 'MRP', 'MYPT-75D', 'Mabi', 'MagR', 'Magi', 'Mal-A1', 'Mal-A2', 'Mal-A5', 'Mal-A6', 'Mal-B1', 'Mal-B2', 'Marc', 'Marf1', 'Mcad', 'Mccc1', 'Mcm10', 'Mcm7', 'Mco1', 'Mdr49', 'Mdr50', 'Mdr65', 'Mec2', 'Meltrin', 'Membrin', 'Mer', 'Mes2', 'Mes4', 'Mf', 'Mgat1', 'Mhc', 'Mink', 'Mip', 'Mipp1', 'Mks1', 'Mlc1', 'Mlc2', 'Mlp60A', 'Mlp84B', 'Mmp1', 'Mmp2', 'Mob2', 'Mocs1', 'Mp20', 'Mpcp1', 'Mpi', 'MrgBP', 'Mrp4', 'Mrtf', 'Ms', 'MsR1', 'MsR2', 'Msp300', 'Msr-110', 'Mst36Fa', 'Mst36Fb', 'Mst77Y-16Psi', 'Mst85C', 'Mst87F', 'Mtap', 'Mthfs', 'Mtk', 'MtnA', 'MtnB', 'MtnD', 'MtnE', 'Mtpalpha', 'Mtpbeta', 'Muc11A', 'Muc12Ea', 'Muc14A', 'Muc30E', 'Muc68E', 'Muc91C', 'Mur18B', 'Mur29B', 'Mur2B', 'Mur89F', 'Mvl', 'Myc', 'Myd88', 'Myo10A', 'Myo31DF', 'Myo81F', 'Mys45A', 'Myt1', 'N', 'NAAT1', 'NC2alpha', 'NC2beta', 'ND-13A', 'ND-18', 'ND-24', 'ND-B14.7', 'ND-B15', 'ND-B8', 'ND-MNLL', 'NFAT', 'NHP2', 'NK7.1', 'NKCC', 'NLaz', 'NO66', 'NP15.6', 'NPF', 'NPFR', 'NT1', 'NT5E-2', 'Naa20B', 'Naa40', 'Naam', 'Naprt', 'Naxd', 'Naxe', 'Nazo', 'Ncc69', 'Nckx30C', 'Ndae1', 'Ndc1', 'Ndc80', 'Nep1', 'Nep2', 'Nep4', 'Nep6', 'Nep7', 'Nepl10', 'Nepl15', 'Nepl4', 'Nepl5', 'NetA', 'NetB', 'Neto', 'Neurochondrin', 'Nfs1', 'Nha1', 'Nha2', 'Nhe2', 'NijA', 'NijC', 'NimA', 'NimB1', 'NimB2', 'NimB3', 'NimB4', 'NimC1', 'NimC2', 'Nlg1', 'Nlp', 'Nmdmc', 'Noa36', 'Non2', 'Nos', 'Nost', 'Not11', 'Notum', 'Np', 'Npc1b', 'Npc2b', 'Npc2g', 'Npc2h', 'Nph', 'Nplp1', 'Nplp2', 'Nplp3', 'Nplp4', 'Nrg', 'Ns3', 'NtR', 'Ntan1', 'Nuf2', 'Nufip', 'Nup133', 'Nup205', 'Nup43', 'Nup75', 'Nurf-38', 'Nxt1', 'OS9', 'OSCP1', 'OXA1L', 'Oat', 'Oatp26F', 'Oatp33Eb', 'Oatp58Db', 'Oatp58Dc', 'Oatp74D', 'Oaz', 'Obp18a', 'Obp19a', 'Obp19b', 'Obp19c', 'Obp19d', 'Obp28a', 'Obp44a', 'Obp49a', 'Obp56a', 'Obp56c', 'Obp56d', 'Obp56e', 'Obp56f', 'Obp56g', 'Obp56h', 'Obp57a', 'Obp57b', 'Obp57c', 'Obp59a', 'Obp69a', 'Obp83a', 'Obp83b', 'Obp83cd', 'Obp83ef', 'Obp83g', 'Obp84a', 'Obp8a', 'Obp93a', 'Obp99a', 'Obp99b', 'Obp99c', 'Obp99d', 'Oct-TyrR', 'Octalpha2R', 'Octbeta1R', 'Octbeta2R', 'OdsH', 'Opbp', 'Optix', 'Or13a', 'Or22a', 'Or22b', 'Or22c', 'Or23a', 'Or2a', 'Or33c', 'Or35a', 'Or42a', 'Or42b', 'Or43a', 'Or43b', 'Or45b', 'Or46a', 'Or47a', 'Or47b', 'Or49b', 'Or56a', 'Or59b', 'Or65a', 'Or65b', 'Or65c', 'Or67a', 'Or67b', 'Or67d', 'Or69a', 'Or71a', 'Or7a', 'Or82a', 'Or83c', 'Or85a', 'Or85e', 'Or85f', 'Or88a', 'Or92a', 'Or98a', 'Or9a', 'Orco', 'Orcokinin', 'Orct', 'Ork1', 'Os-C', 'Oscillin', 'Oseg5', 'Oseg6', 'Osi15', 'Osi17', 'Osi24', 'Osi3', 'Osi4', 'Osi5', 'Osi6', 'Osi7', 'Osi8', 'Osi9', 'Ost48', 'Ote', 'Oxp', 'P5cr-2', 'PGRP-LB', 'PGRP-LC', 'PGRP-LF', 'PGRP-SA', 'PGRP-SB1', 'PGRP-SD', 'PH4alphaMP', 'PIG-C', 'PIG-U', 'PIG-Wa', 'PK1-R', 'PLCXD', 'PMP34', 'PNPase', 'POLDIP2', 'PPO1', 'PPO2', 'PRAS40', 'PTPMT1', 'PVRAP', 'Paics', 'Parp16', 'Pcl', 'Pcp', 'Pcyt2', 'Pde1c', 'Pde8', 'Pde9', 'Pdf', 'Pdfr', 'Pdh', 'Pdk', 'Pdrg1', 'Pdxk', 'Pebp1', 'Pen', 'Pepck2', 'Peritrophin-15a', 'Peritrophin-A', 'Pex10', 'Pex11', 'Pex5', 'Pez', 'Pfas', 'Pfdn4', 'Pfdn5', 'Pfdn6', 'Pgd', 'Pgm1', 'Phf7', 'Phk-3', 'Phlpp', 'Phs', 'Picot', 'Pif1', 'Pino', 'Pka-C2', 'Pkcdelta', 'Pkg21D', 'Pld', 'Pld3', 'Plp', 'Pmm2', 'Poc1', 'Pol32', 'Pomp', 'Pop4', 'Pop5', 'Poxm', 'Poxn', 'Pp1-Y2', 'Ppn', 'Ppox', 'Ppr-Y', 'Prat', 'Prat2', 'Prip', 'Prm', 'Proc', 'Proc-R', 'Prosalpha2', 'Prosalpha3', 'Prosalpha4', 'Prosalpha5', 'Prosalpha6', 'Prosap', 'Prosbeta1', 'Prosbeta3', 'Prosbeta4', 'Prosbeta5', 'Prosbeta5R2', 'Prosbeta6', 'Prosbeta7', 'Prp18', 'Prpk', 'Prx2540-1', 'Prx2540-2', 'Prx6005', 'Psf1', 'Psf3', 'Ptpa', 'Ptr', 'Ptx1', 'Pu', 'Pura', 'Pvf1', 'Pvf2', 'Pvf3', 'Pvr', 'Pxn', 'Pxt', 'Pym', 'Pzl', 'QC', 'Qsox2', 'RNaseMRP:RNA', 'RNaseX25', 'Rab18', 'Rab21', 'Rab23', 'Rab32', 'Rab9Fa', 'RabX5', 'Rac2', 'Raf', 'Rai1', 'RapGAP1', 'Ras64B', 'Ravus', 'Rbm13', 'Rbp6', 'Rbsn-5', 'Rcc1', 'Rcd-1r', 'Rcd2', 'Rcd6', 'Rchy1', 'Rdl', 'Reck', 'Ref2', 'Reg-2', 'Reg-5', 'Ret', 'Rgk1', 'Rgk3', 'Rh2', 'Rh3', 'Rh4', 'Rh5', 'Rh50', 'Rh6', 'Rh7', 'RhoGAP18B', 'RhoGAP54D', 'RhoGEF4', 'RhoGEF64C', 'RhoL', 'RhoU', 'Rhp', 'Rlb1', 'RluA-1', 'RnrS', 'Root', 'RpII15', 'RpII18', 'RpII33', 'RpLP0-like', 'RpS15Ab', 'RpS5b', 'Rpb10', 'Rpb12', 'Rpb7', 'Rpe', 'Rpi', 'Rpn1', 'Rpn10', 'Rpn13', 'Rpn2', 'Rpn7', 'Rpn9', 'Rpt3', 'Rpt4', 'Rpt4R', 'Rpt6', 'Rpt6R', 'Rrp4', 'Rrp42', 'Rrp46', 'Rrp47', 'Rsbp15', 'Rsph1', 'Rsph3', 'Rsph4a', 'RtcB', 'RunxA', 'RunxB', 'Rx', 'S', 'SCOT', 'SERCA', 'SIFa', 'SIFaR', 'SKIP', 'SLIRP2', 'SLO2', 'SMC2', 'SNRPG', 'SP1029', 'SP1173', 'SPARC', 'SPE', 'SPH93', 'SPR', 'Samuel', 'Sans', 'Sap30', 'Sardh', 'Sarm', 'Sas-4', 'Sb', 'Sccpdh1', 'Sccpdh2', 'Sclp', 'Scp2', 'Scr', 'Sdhaf3', 'Sdr', 'Sec13', 'Sec22', 'Sec61gamma', 'SecCl', 'Secp43', 'Seipin', 'SelT', 'Sem1', 'Sema2b', 'Sema5c', 'Ser', 'Ser7', 'SerRS', 'SerT', 'Sesn', 'Sf3b5', 'Sfp24Bb', 'Sfp24Bc', 'Sfp51E', 'Sfp77F', 'Sgf11', 'Sgt', 'Shark', 'Shmt', 'Shrm', 'SiaT', 'Sidpn', 'Sirt4', 'Sirt7', 'Sirup', 'Six4', 'Sk1', 'Skeletor', 'Ski6', 'Skp2', 'Slc45-1', 'Sld5', 'Slob', 'Slu7', 'SmD2', 'SmE', 'Smyd4-1', 'Smyd4-2', 'Smyd4-3', 'Smyd5', 'SmydA-2', 'SmydA-3', 'SmydA-4', 'SmydA-5', 'SmydA-9', 'Snap29', 'Snmp1', 'Snmp2', 'Snp', 'Snx16', 'SoYb', 'Sobp', 'Sod2', 'Sod3', 'Sodh-1', 'Sodh-2', 'Sox102F', 'Sox15', 'Sox21a', 'Sox21b', 'SoxN', 'Sp1', 'Sp212', 'Sp7', 'Spase12', 'Spase22-23', 'Spase25', 'Spat', 'Spc105R', 'Spc25', 'Spn27A', 'Spn28Dc', 'Spn31A', 'Spn42Da', 'Spn42Dd', 'Spn42De', 'Spn43Ab', 'Spn43Ad', 'Spn47C', 'Spn55B', 'Spn77Ba', 'Spn77Bb', 'Spn77Bc', 'Spn88Ea', 'Sps1', 'Sps2', 'Spt3', 'Sr-CI', 'Srp19', 'Srp54k', 'Srp68', 'Ssb-c31a', 'Ssk', 'Ssl', 'Ssl1', 'Ssrp', 'St1', 'Stacl', 'SteXh:CG42398', 'Sting', 'Strn-Mlck', 'Su(H)', 'Su(P)', 'Su(Ste):CR42414', 'Su(Ste):CR42439', 'Sulf1', 'Sur', 'Surf1', 'Surf6', 'Svil', 'Swim', 'Swip-1', 'Sytbeta', 'T3dh', 'T48', 'TAF1C-like', 'THADA', 'TTLL15', 'TTLL3B', 'TTLL6A', 'Taf10', 'Taf10b', 'Taf11', 'Taf13', 'Takl1', 'Tango4', 'Tapdelta', 'Tbh', 'Tdc1', 'Tdc2', 'Tektin-C', 'Ten-a', 'Ten-m', 'Tep1', 'Tep2', 'Tep3', 'Tep4', 'Tep5Psi', 'Tet', 'TfAP-2', 'TfIIA-S', 'Tg', 'Tgi', 'Theg', 'Thor', 'Tie', 'Tig', 'Tim9a', 'Timp', 'Tis11', 'Tk', 'TkR86C', 'Tm2', 'Tmc', 'Tmem18', 'Tmhs', 'Toll-4', 'Toll-6', 'Toll-9', 'Tollo', 'Tom', 'TotA', 'TotC', 'TotM', 'TotX', 'TpnC25D', 'TpnC4', 'TpnC41C', 'TpnC47D', 'TpnC73F', 'Tps1', 'Traf4', 'Tre1', 'Treh', 'Tret1-1', 'Trf', 'Trf4-2', 'Trh', 'Trim9', 'Trissin', 'TrpA1', 'Trpgamma', 'Trs23', 'Trs31', 'Tsen2', 'Tsf1', 'Tsf3', 'Tsp', 'Tsp29Fa', 'Tsp29Fb', 'Tsp42Ea', 'Tsp42Ec', 'Tsp42Ed', 'Tsp42Ef', 'Tsp42Eg', 'Tsp42Eh', 'Tsp42Ei', 'Tsp42El', 'Tsp42En', 'Tsp42Eo', 'Tsp42Eq', 'Tsp47F', 'Tsp5D', 'Tsp68C', 'Tsp74F', 'Tspo', 'Ttd14', 'TwdlT', 'TyrR', 'TyrRII', 'UK114', 'Ubc84D', 'UbcE2M', 'Ubx', 'Uch', 'Uch-L5', 'Ude', 'Ufc1', 'Ufd1-like', 'Ufm1', 'Ugt301D1', 'Ugt302C1', 'Ugt302K1', 'Ugt303B1', 'Ugt317A1', 'Ugt35A1', 'Ugt35B1', 'Ugt35C1', 'Ugt35E1', 'Ugt35E2', 'Ugt36D1', 'Ugt36F1', 'Ugt37D1', 'Ugt49B1', 'Ugt49C1', 'Ugt50B3', 'Unc-89', 'Upf1', 'Upf3', 'Urod', 'VGlut', 'Vago', 'Vajk1', 'Vajk2', 'Vajk3', 'Vajk4', 'ValRS-m', 'Vamp7', 'Vdup1', 'VepD', 'Vha100-4', 'Vha100-5', 'Vha36-3', 'Vha68-2', 'VhaAC39-2', 'Vkor', 'Vm26Ab', 'Vmat', 'Vps13B', 'Vps20', 'Vps28', 'Vps8', 'Vrp1', 'Vsx1', 'Vsx2', 'Vti1b', 'WDR79', 'Wdr62', 'Whamy', 'Wnt10', 'Wnt2', 'Wnt4', 'Wnt6', 'Wsck', 'Xpd', 'Xrp1', 'Yp1', 'Yp2', 'Yp3', 'Zasp52', 'Zasp66', 'Zif', 'Zip48C', 'Zip71B', 'Zip88E', 'Zip89B', 'Zip99C', 'ZnT35C', 'ZnT41F', 'ZnT77C', 'Zw', 'Zwilch', 'a', 'a10', 'a5', 'aay', 'ab', 'acj6', 'adp', 'al', 'alpha-Est1', 'alpha-Est10', 'alpha-Est3', 'alpha-Est7', 'alpha-Est8', 'alphaTry', 'alphaTub67C', 'alphaTub85E', 'alrm', 'amd', 'ana', 'ana1', 'antdh', 'aos', 'ap', 'apn', 'apolpp', 'apt', 'ara', 'aru', 'arx', 'asRNA:CR42860', 'asRNA:CR43259', 'asRNA:CR43454', 'asRNA:CR43460', 'asRNA:CR43463', 'asRNA:CR43467', 'asRNA:CR43468', 'asRNA:CR43478', 'asRNA:CR43481', 'asRNA:CR43916', 'asRNA:CR43957', 'asRNA:CR43964', 'asRNA:CR44053', 'asRNA:CR44062', 'asRNA:CR44065', 'asRNA:CR44087', 'asRNA:CR44107', 'asRNA:CR44137', 'asRNA:CR44169', 'asRNA:CR44176', 'asRNA:CR44192', 'asRNA:CR44266', 'asRNA:CR44267', 'asRNA:CR44297', 'asRNA:CR44368', 'asRNA:CR44370', 'asRNA:CR44374', 'asRNA:CR44375', 'asRNA:CR44431', 'asRNA:CR44512', 'asRNA:CR44599', 'asRNA:CR44653', 'asRNA:CR44850', 'asRNA:CR44892', 'asRNA:CR44894', 'asRNA:CR44958', 'asRNA:CR44960', 'asRNA:CR44962', 'asRNA:CR44984', 'asRNA:CR44987', 'asRNA:CR44989', 'asRNA:CR44992', 'asRNA:CR44996', 'asRNA:CR44998', 'asRNA:CR45000', 'asRNA:CR45024', 'asRNA:CR45046', 'asRNA:CR45129', 'asRNA:CR45131', 'asRNA:CR45132', 'asRNA:CR45136', 'asRNA:CR45161', 'asRNA:CR45185', 'asRNA:CR45281', 'asRNA:CR45350', 'asRNA:CR45376', 'asRNA:CR45396', 'asRNA:CR45466', 'asRNA:CR45468', 'asRNA:CR45481', 'asRNA:CR45525', 'asRNA:CR45535', 'asRNA:CR45620', 'asRNA:CR45621', 'asRNA:CR45686', 'asRNA:CR45713', 'asRNA:CR45800', 'asRNA:CR45801', 'asRNA:CR45827', 'asRNA:CR45868', 'asRNA:CR45875', 'asRNA:CR45882', 'asRNA:CR45894', 'asRNA:CR45924', 'asRNA:CR45925', 'asRNA:CR45927', 'asRNA:CR45943', 'asRNA:CR45974', 'asRNA:CR45999', 'asRNA:CR46033', 'asRNA:CR46048', 'asRNA:CR46065', 'asRNA:CR46089', 'asRNA:CR46092', 'asRNA:CR46096', 'asRNA:CR46195', 'asRNA:CR46246', 'asRNA:CR46269', 'asRNA:CR46354', 'asRNA:Eig63F-2', 'asf1', 'asl', 'asrij', 'ast', 'atilla', 'ato', 'aust', 'ave', 'axo', 'b', 'b6', 'bab1', 'bab2', 'babos', 'baf', 'bai', 'bap', 'bark', 'baz', 'bbg', 'bc10', 'bdl', 'be', 'beat-IIIb', 'beat-IIIc', 'beat-IIa', 'beat-IIb', 'beat-Ia', 'beat-Ib', 'beat-Ic', 'beat-VI', 'beat-VII', 'beat-Vc', 'beg', 'beta-Man', 'beta3GalTII', 'beta4GalT7', 'betaNACtes2', 'betaTry', 'betaTub56D', 'betaTub60D', 'betaTub85D', 'betaTub97EF', 'betaggt-I', 'betaggt-II', 'bgm', 'bi', 'bib', 'bigmax', 'blot', 'blp', 'bma', 'bmm', 'bnb', 'bnl', 'boi', 'bond', 'bou', 'bowl', 'br', 'brk', 'bru1', 'bru2', 'bru3', 'brwl', 'bsh', 'bt', 'btl', 'bug', 'bw', 'by', 'byn', 'bys', 'c(3)G', 'c12.1', 'cDIP', 'cN-IIIB', 'cact', 'cactin', 'cad', 'cag', 'cal1', 'can', 'cana', 'cas', 'caup', 'cd', 'cer', 'cerv', 'chas', 'cher', 'ci', 'cid', 'ck', 'ckd', 'clumsy', 'cmb', 'cmet', 'cnc', 'cni', 'cold', 'colt', 'comm2', 'comm3', 'conv', 'corolla', 'cpo', 'crb', 'crim', 'crok', 'cry', 'ct', 'cutlet', 'cv', 'cv-2', 'cv-c', 'cv-d', 'cwo', 'cyr', 'cysu', 'd', 'dac', 'dah', 'dally', 'dap', 'dar1', 'dati', 'daw', 'del', 'dgo', 'dgt2', 'dgt3', 'dhd', 'dila', 'dimm', 'disco', 'disco-r', 'dj-1beta', 'dl', 'dlp', 'dmGlut', 'dmrt11E', 'dmrt99B', 'dmt', 'dnd', 'dnr1', 'dpp', 'dpr1', 'dpr10', 'dpr11', 'dpr13', 'dpr15', 'dpr16', 'dpr17', 'dpr2', 'dpr3', 'dpr5', 'dpr6', 'dpr8', 'dpy', 'drd', 'drm', 'ds', 'dsb', 'dsx', 'dsx-c73A', 'dve', 'dx', 'dyl', 'dysf', 'dyw', 'e', 'e(y)2', 'eEF1alpha1', 'eIF2Balpha', 'eIF2D', 'eIF2alpha', 'eIF3b', 'eIF3g1', 'eIF3k', 'eIF4E6', 'eIF4E7', 'ea', 'ebd1', 'ec', 'eca', 'ecd', 'eco', 'ect', 'ed', 'edl', 'eg', 'egr', 'elB', 'elg1', 'emp', 'ems', 'en', 'epsilonTry', 'erm', 'esg', 'etaTry', 'euc', 'ex', 'exp', 'exu', 'ey', 'eya', 'eyg', 'eys', 'f', 'f-cup', 'fa2h', 'fabp', 'fan', 'fat-spondin', 'fau', 'fd102C', 'fd59A', 'fd96Ca', 'fd96Cb', 'feo', 'fest', 'fh', 'fipi', 'firl', 'fit', 'fj', 'fkh', 'flz', 'fng', 'fog', 'foi', 'fok', 'fon', 'for', 'form3', 'foxo', 'frac', 'fred', 'frm', 'frma', 'fru', 'fs(1)Ya', 'fs(1)Yb', 'ft', 'fus', 'fusl', 'fuss', 'fw', 'fz', 'fz2', 'fz3', 'galene', 'galla-2', 'gbb', 'geko', 'geminin', 'gfzf', 'glob1', 'glu', 'gnu', 'goe', 'gol', 'gom', 'grass', 'grh', 'grim', 'grk', 'grn', 'grnd', 'gsb-n', 'gukh', 'gwl', 'h', 'haf', 'ham', 'hbn', 'hd', 'hdc', 'hdly', 'hebe', 'heph', 'hgo', 'hh', 'hid', 'hig', 'hiro', 'hkb', 'hng1', 'hng3', 'hoe1', 'hoip', 'how', 'hpRNA:CR32205', 'hpRNA:CR46342', 'hth', 'htl', 'hui', 'if', 'ihog', 'imd', 'in', 'inaF-A', 'ine', 'insc', 'insv', 'inv', 'iotaTry', 'janA', 'jb', 'jbug', 'jeb', 'jhamt', 'jnj', 'jus', 'jv', 'jvl', 'kar', 'karr', 'kat80', 'kay', 'kek3', 'ken', 'kibra', 'kkv', 'klar', 'klg', 'klu', 'kn', 'kni', 'knk', 'knon', 'knrl', 'ko', 'kon', 'kraken', 'ksh', 'kst', 'kud', 'l(1)10Bb', 'l(2)01289', 'l(2)05714', 'l(2)34Fc', 'l(2)37Bb', 'l(2)37Cc', 'l(2)37Cg', 'l(2)41Ab', 'l(2)efl', 'l(2)k05911', 'l(2)k09848', 'l(2)k10201', 'l(2)k14505', 'l(3)07882', 'l(3)72Ab', 'l(3)72Dp', 'l(3)87Df', 'l(3)neo43', 'lab', 'lace', 'lama', 'lambdaTry', 'laza', 'lbe', 'lbl', 'lbm', 'lcs', 'lectin-21Ca', 'lectin-21Cb', 'lectin-24A', 'lectin-28C', 'lectin-30A', 'lectin-37Da', 'lectin-37Db', 'lft', 'lin', 'lin-28', 'lin-52', 'lncRNA:CR13130', 'lncRNA:CR30009', 'lncRNA:CR31044', 'lncRNA:CR31386', 'lncRNA:CR31451', 'lncRNA:CR31647', 'lncRNA:CR31781', 'lncRNA:CR32111', 'lncRNA:CR32194', 'lncRNA:CR32385', 'lncRNA:CR32582', 'lncRNA:CR32636', 'lncRNA:CR32652', 'lncRNA:CR32730', 'lncRNA:CR32773', 'lncRNA:CR33942', 'lncRNA:CR33963', 'lncRNA:CR34046', 'lncRNA:CR34335', 'lncRNA:CR40053', 'lncRNA:CR40469', 'lncRNA:CR41352', 'lncRNA:CR42491', 'lncRNA:CR42646', 'lncRNA:CR42651', 'lncRNA:CR42719', 'lncRNA:CR42755', 'lncRNA:CR42765', 'lncRNA:CR42767', 'lncRNA:CR42794', 'lncRNA:CR42839', 'lncRNA:CR42859', 'lncRNA:CR43126', 'lncRNA:CR43144', 'lncRNA:CR43199', 'lncRNA:CR43234', 'lncRNA:CR43241', 'lncRNA:CR43260', 'lncRNA:CR43264', 'lncRNA:CR43314', 'lncRNA:CR43334', 'lncRNA:CR43411', 'lncRNA:CR43417', 'lncRNA:CR43418', 'lncRNA:CR43432', 'lncRNA:CR43434', 'lncRNA:CR43452', 'lncRNA:CR43461', 'lncRNA:CR43498', 'lncRNA:CR43604', 'lncRNA:CR43606', 'lncRNA:CR43626', 'lncRNA:CR43627', 'lncRNA:CR43640', 'lncRNA:CR43641', 'lncRNA:CR43642', 'lncRNA:CR43649', 'lncRNA:CR43650', 'lncRNA:CR43653', 'lncRNA:CR43700', 'lncRNA:CR43716', 'lncRNA:CR43717', 'lncRNA:CR43724', 'lncRNA:CR43808', 'lncRNA:CR43818', 'lncRNA:CR43825', 'lncRNA:CR43834', 'lncRNA:CR43835', 'lncRNA:CR43836', 'lncRNA:CR43853', 'lncRNA:CR43856', 'lncRNA:CR43870', 'lncRNA:CR43874', 'lncRNA:CR43879', 'lncRNA:CR43881', 'lncRNA:CR43882', 'lncRNA:CR43883', 'lncRNA:CR43884', 'lncRNA:CR43887', 'lncRNA:CR43893', 'lncRNA:CR43907', 'lncRNA:CR43927', 'lncRNA:CR43928', 'lncRNA:CR43929', 'lncRNA:CR43978', 'lncRNA:CR44042', 'lncRNA:CR44043', 'lncRNA:CR44055', 'lncRNA:CR44059', 'lncRNA:CR44068', 'lncRNA:CR44080', 'lncRNA:CR44096', 'lncRNA:CR44110', 'lncRNA:CR44126', 'lncRNA:CR44127', 'lncRNA:CR44129', 'lncRNA:CR44131', 'lncRNA:CR44133', 'lncRNA:CR44138', 'lncRNA:CR44177', 'lncRNA:CR44187', 'lncRNA:CR44197', 'lncRNA:CR44203', 'lncRNA:CR44208', 'lncRNA:CR44264', 'lncRNA:CR44272', 'lncRNA:CR44283', 'lncRNA:CR44294', 'lncRNA:CR44298', 'lncRNA:CR44319', 'lncRNA:CR44320', 'lncRNA:CR44322', 'lncRNA:CR44334', 'lncRNA:CR44353', 'lncRNA:CR44357', 'lncRNA:CR44363', 'lncRNA:CR44365', 'lncRNA:CR44366', 'lncRNA:CR44369', 'lncRNA:CR44380', 'lncRNA:CR44396', 'lncRNA:CR44400', 'lncRNA:CR44407', 'lncRNA:CR44430', 'lncRNA:CR44440', 'lncRNA:CR44441', 'lncRNA:CR44442', 'lncRNA:CR44448', 'lncRNA:CR44463', 'lncRNA:CR44471', 'lncRNA:CR44488', 'lncRNA:CR44498', 'lncRNA:CR44500', 'lncRNA:CR44501', 'lncRNA:CR44506', 'lncRNA:CR44517', 'lncRNA:CR44519', 'lncRNA:CR44522', 'lncRNA:CR44525', 'lncRNA:CR44526', 'lncRNA:CR44528', 'lncRNA:CR44538', 'lncRNA:CR44541', 'lncRNA:CR44543', 'lncRNA:CR44544', 'lncRNA:CR44560', 'lncRNA:CR44568', 'lncRNA:CR44570', 'lncRNA:CR44576', 'lncRNA:CR44582', 'lncRNA:CR44608', 'lncRNA:CR44612', 'lncRNA:CR44619', 'lncRNA:CR44645', 'lncRNA:CR44650', 'lncRNA:CR44654', 'lncRNA:CR44662', 'lncRNA:CR44663', 'lncRNA:CR44669', 'lncRNA:CR44677', 'lncRNA:CR44709', 'lncRNA:CR44710', 'lncRNA:CR44717', 'lncRNA:CR44723', 'lncRNA:CR44725', 'lncRNA:CR44738', 'lncRNA:CR44743', 'lncRNA:CR44754', 'lncRNA:CR44756', 'lncRNA:CR44768', 'lncRNA:CR44780', 'lncRNA:CR44785', 'lncRNA:CR44808', 'lncRNA:CR44809', 'lncRNA:CR44811', 'lncRNA:CR44819', 'lncRNA:CR44825', 'lncRNA:CR44828', 'lncRNA:CR44831', 'lncRNA:CR44832', 'lncRNA:CR44833', 'lncRNA:CR44845', 'lncRNA:CR44854', 'lncRNA:CR44855', 'lncRNA:CR44889', 'lncRNA:CR44898', 'lncRNA:CR44900', 'lncRNA:CR44901', 'lncRNA:CR44904', 'lncRNA:CR44912', 'lncRNA:CR44914', 'lncRNA:CR44921', 'lncRNA:CR44923', 'lncRNA:CR44936', 'lncRNA:CR44938', 'lncRNA:CR44946', 'lncRNA:CR44949', 'lncRNA:CR44964', 'lncRNA:CR44965', 'lncRNA:CR44980', 'lncRNA:CR44985', 'lncRNA:CR44988', 'lncRNA:CR44997', 'lncRNA:CR44999', 'lncRNA:CR45018', 'lncRNA:CR45052', 'lncRNA:CR45082', 'lncRNA:CR45115', 'lncRNA:CR45118', 'lncRNA:CR45119', 'lncRNA:CR45128', 'lncRNA:CR45169', 'lncRNA:CR45174', 'lncRNA:CR45181', 'lncRNA:CR45184', 'lncRNA:CR45200', 'lncRNA:CR45211', 'lncRNA:CR45223', 'lncRNA:CR45224', 'lncRNA:CR45225', 'lncRNA:CR45231', 'lncRNA:CR45232', 'lncRNA:CR45243', 'lncRNA:CR45245', 'lncRNA:CR45246', 'lncRNA:CR45250', 'lncRNA:CR45251', 'lncRNA:CR45259', 'lncRNA:CR45267', 'lncRNA:CR45270', 'lncRNA:CR45274', 'lncRNA:CR45284', 'lncRNA:CR45286', 'lncRNA:CR45294', 'lncRNA:CR45296', 'lncRNA:CR45297', 'lncRNA:CR45303', 'lncRNA:CR45308', 'lncRNA:CR45312', 'lncRNA:CR45319', 'lncRNA:CR45321', 'lncRNA:CR45324', 'lncRNA:CR45327', 'lncRNA:CR45335', 'lncRNA:CR45348', 'lncRNA:CR45355', 'lncRNA:CR45356', 'lncRNA:CR45359', 'lncRNA:CR45361', 'lncRNA:CR45363', 'lncRNA:CR45364', 'lncRNA:CR45372', 'lncRNA:CR45375', 'lncRNA:CR45380', 'lncRNA:CR45388', 'lncRNA:CR45400', 'lncRNA:CR45401', 'lncRNA:CR45403', 'lncRNA:CR45410', 'lncRNA:CR45414', 'lncRNA:CR45415', 'lncRNA:CR45426', 'lncRNA:CR45439', 'lncRNA:CR45440', 'lncRNA:CR45450', 'lncRNA:CR45456', 'lncRNA:CR45457', 'lncRNA:CR45472', 'lncRNA:CR45482', 'lncRNA:CR45502', 'lncRNA:CR45511', 'lncRNA:CR45514', 'lncRNA:CR45517', 'lncRNA:CR45530', 'lncRNA:CR45531', 'lncRNA:CR45533', 'lncRNA:CR45537', 'lncRNA:CR45551', 'lncRNA:CR45552', 'lncRNA:CR45553', 'lncRNA:CR45559', 'lncRNA:CR45564', 'lncRNA:CR45566', 'lncRNA:CR45567', 'lncRNA:CR45577', 'lncRNA:CR45582', 'lncRNA:CR45593', 'lncRNA:CR45596', 'lncRNA:CR45622', 'lncRNA:CR45631', 'lncRNA:CR45633', 'lncRNA:CR45643', 'lncRNA:CR45650', 'lncRNA:CR45652', 'lncRNA:CR45666', 'lncRNA:CR45667', 'lncRNA:CR45673', 'lncRNA:CR45680', 'lncRNA:CR45693', 'lncRNA:CR45703', 'lncRNA:CR45706', 'lncRNA:CR45709', 'lncRNA:CR45726', 'lncRNA:CR45734', 'lncRNA:CR45737', 'lncRNA:CR45740', 'lncRNA:CR45755', 'lncRNA:CR45791', 'lncRNA:CR45792', 'lncRNA:CR45821', 'lncRNA:CR45823', 'lncRNA:CR45824', 'lncRNA:CR45866', 'lncRNA:CR45884', 'lncRNA:CR45898', 'lncRNA:CR45902', 'lncRNA:CR45904', 'lncRNA:CR45914', 'lncRNA:CR45916', 'lncRNA:CR45920', 'lncRNA:CR45936', 'lncRNA:CR45937', 'lncRNA:CR45983', 'lncRNA:CR45984', 'lncRNA:CR46003', 'lncRNA:CR46004', 'lncRNA:CR46006', 'lncRNA:CR46007', 'lncRNA:CR46015', 'lncRNA:CR46031', 'lncRNA:CR46036', 'lncRNA:CR46060', 'lncRNA:CR46075', 'lncRNA:CR46077', 'lncRNA:CR46079', 'lncRNA:CR46108', 'lncRNA:CR46119', 'lncRNA:CR46147', 'lncRNA:CR46148', 'lncRNA:CR46206', 'lncRNA:CR46217', 'lncRNA:CR46220', 'lncRNA:CR46234', 'lncRNA:CR46253', 'lncRNA:CR46260', 'lncRNA:CR46350', 'lncRNA:CR46351', 'lncRNA:CR46352', 'lncRNA:CR46409', 'lncRNA:CR46416', 'lncRNA:CR46445', 'lncRNA:Hsromega', 'lncRNA:TS20', 'lncRNA:TS9', 'lncRNA:acal', 'lncRNA:alphagamma-element:CR32865', 'lncRNA:cherub', 'lncRNA:noe', 'lncRNA:roX2', 'lncRNA:yar', 'lobo', 'loco', 'loj', 'lok', 'loopin-1', 'lov', 'lovit', 'lqf', 'ltl', 'luna', 'lush', 'lute', 'lz', 'm', 'mAChR-B', 'mEFTs', 'mGluR', 'mIF2', 'mRpL10', 'mRpL12', 'mRpL13', 'mRpL16', 'mRpL17', 'mRpL18', 'mRpL19', 'mRpL21', 'mRpL22', 'mRpL23', 'mRpL27', 'mRpL3', 'mRpL30', 'mRpL34', 'mRpL35', 'mRpL36', 'mRpL37', 'mRpL38', 'mRpL40', 'mRpL41', 'mRpL42', 'mRpL43', 'mRpL44', 'mRpL45', 'mRpL46', 'mRpL48', 'mRpL49', 'mRpL51', 'mRpL52', 'mRpL55', 'mRpL9', 'mRpS10', 'mRpS14', 'mRpS16', 'mRpS17', 'mRpS18A', 'mRpS18C', 'mRpS2', 'mRpS22', 'mRpS24', 'mRpS28', 'mRpS29', 'mRpS33', 'mRpS34', 'mRpS6', 'mRpS7', 'mab-21', 'mad2', 'mag', 'mago', 'magu', 'mah', 'mbl', 'mdy', 'mei-38', 'mei-P22', 'melt', 'meng', 'meru', 'mesh', 'mew', 'mex1', 'mey', 'mfas', 'mfr', 'mgl', 'mid', 'mip120', 'mip40', 'mirr', 'mld', 'mms4', 'mnd', 'modSP', 'mol', 'moon', 'ms(3)76Ba', 'msd1', 'mspo', 'mt:ND1', 'mt:ND2', 'mt:ND3', 'mt:ND6', 'mt:lrRNA', 'mt:srRNA', 'mt:tRNA:Asp-GTC', 'mt:tRNA:Ile-GAT', 'mt:tRNA:Leu-TAA', 'mt:tRNA:Phe-GAA', 'mtSSB', 'mtg', 'mth', 'mthl10', 'mthl14', 'mthl3', 'mthl4', 'mthl5', 'mthl6', 'mthl9', 'mtrm', 'mtt', 'mud', 'mwh', 'mxc', 'nAChRalpha3', 'nAChRalpha5', 'nAChRalpha6', 'nAChRalpha7', 'nAChRbeta3', 'nab', 'nahoda', 'nan', 'natalisin', 'nau', 'naz', 'ndl', 'neb', 'nec', 'nemy', 'neo', 'nerfin-1', 'nerfin-2', 'nero', 'net', 'neur', 'ninaB', 'ninaC', 'ninaE', 'nkd', 'nkt', 'nmdyn-D7', 'nod', 'nolo', 'nompA', 'nompB', 'nompC', 'nopo', 'nord', 'norpA', 'nos', 'nrm', 'nrv1', 'nub', 'nuf', 'obst-A', 'obst-B', 'obst-E', 'oc', 'odd', 'ogre', 'olf186-F', 'olf186-M', 'olf413', 'ome', 'opa', 'orb', 'org-1', 'ort', 'osk', 'osp', 'otk', 'otp', 'out', 'ovo', 'oxt', 'p38a', 'pHCl-1', 'pHCl-2', 'pain', 'pall', 'papi', 'park', 'path', 'pb', 'pbl', 'pck', 'pdgy', 'pdm2', 'pdm3', 'peb', 'pes', 'pgc', 'phu', 'pim', 'pinta', 'pio', 'pip', 'pirk', 'pk', 'ple', 'plh', 'pll', 'plx', 'pnr', 'pnt', 'pon', 'pot', 'ppk', 'ppk21', 'ppk22', 'ppk23', 'ppk26', 'ppk28', 'ppk29', 'ppk30', 'ppk5', 'ppk6', 'ppk7', 'ppk8', 'pr', 'prc', 'pre-lola-G', 'pre-rRNA:CR45845', 'pros', 'prt', 'psd', 'psh', 'pst', 'ptc', 'puc', 'pug', 'pwn', 'pyd', 'pyd3', 'pyr', 'pyx', 'qin', 'qsm', 'qua', 'rad', 'raskol', 'rau', 'raw', 'rdgA', 'rdhB', 'rdo', 'rdog', 'reb', 'red', 'regucalcin', 'repo', 'rept', 'resilin', 'retinin', 'retn', 'rgn', 'rha', 'rhi', 'rho', 'rho-6', 'rib', 'rk', 'rn', 'robl', 'robls54B', 'robo2', 'rols', 'rost', 'rpr', 'rst', 'rtet', 'rtp', 'rtv', 'ru', 'run', 'sNPF', 'sNPF-R', 'salm', 'salr', 'sals', 'salt', 'sand', 'sano', 'santa-maria', 'sas', 'sbm', 'scaRNA:MeU5-U42', 'scaRNA:PsiU1-6', 'scaf', 'scb', 'scf', 'scpr-B', 'scpr-C', 'scra', 'scro', 'scw', 'scyl', 'sds22', 'se', 'sel', 'sens-2', 'serp', 'sev', 'sgll', 'sha', 'shakB', 'sick', 'side', 'side-II', 'side-III', 'side-V', 'side-VI', 'side-VIII', 'sim', 'sip2', 'sip3', 'sit', 'skl', 'sktl', 'slbo', 'slf', 'slif', 'slo', 'slou', 'slow', 'slp1', 'slp2', 'sls', 'sn', 'snRNA:7SK', 'snRNA:U11', 'snRNA:U12', 'snRNA:U4:39B', 'snRNA:U5:34A', 'snRNA:U5:63BC', 'snRNA:U7', 'snRNP-U1-C', 'snf', 'sni', 'snoRNA:229', 'snoRNA:CD-24', 'snoRNA:CG16892-a', 'snoRNA:Me18S-A627', 'snoRNA:Me18S-G1358a', 'snoRNA:Me18S-G1952', 'snoRNA:Me28S-A2113', 'snoRNA:Me28S-A771', 'snoRNA:Me28S-C788b', 'snoRNA:Me28S-G2703a', 'snoRNA:Me28S-G764', 'snoRNA:Me28S-U2134b', 'snoRNA:Or-ACA9', 'snoRNA:Or-CD1', 'snoRNA:Psi18S-1820', 'snoRNA:Psi18S-525i', 'snoRNA:Psi28S-2179', 'snoRNA:Psi28S-2263', 'snoRNA:Psi28S-2566', 'snoRNA:Psi28S-3327c', 'snoRNA:U14:30Ea', 'snoRNA:U14:30Eb', 'snoRNA:U3:9B', 'snoRNA:lola-b', 'snoRNA:lola-c', 'snsl', 'snu', 'sob', 'sog', 'solo', 'sona', 'sosie', 'spab', 'sphinx1', 'sphinx2', 'spir', 'spirit', 'spn-A', 'spn-E', 'spok', 'spri', 'sprt', 'spz', 'spz3', 'spz4', 'spz5', 'sqa', 'sr', 'srl', 'srp', 'ss', 'ssp7', 'st', 'stac', 'stet', 'stg', 'stil', 'stl', 'stum', 'stumps', 'stw', 'su(r)', 'sug', 'sunn', 'sut1', 'sv', 'svp', 'swa', 'swi2', 'sxe2', 'tHMG2', 'tRNA:Glu-CTC-1-1', 'tRNA:Ile-AAT-2-1Psi', 'tRNA:SeC-TCA-1-1', 'tam', 'tap', 'tea', 'temp', 'teq', 'tex', 'tey', 'tfc', 'thoc7', 'thw', 'tim', 'tj', 'tmod', 'tn', 'tnc', 'to', 'tobi', 'toe', 'tomb', 'toy', 'trbl', 'trh', 'trk', 'trn', 'trol', 'trp', 'trpl', 'trv', 'tsh', 'tsl', 'tsu', 'ttk', 'ttm50', 'tup', 'tut', 'tw', 'twi', 'twit', 'twz', 'tx', 'ubl', 'udt', 'uif', 'unc-13-4A', 'unc-4', 'und', 'up', 'upd2', 'upd3', 'uri', 'ush', 'v', 'vas', 'veil', 'ver', 'verm', 'vg', 'vir-1', 'vito', 'vkg', 'vls', 'vn', 'vri', 'vvl', 'w', 'wal', 'wat', 'wb', 'wbl', 'wdp', 'wds', 'wg', 'wgn', 'whd', 'whe', 'wisp', 'wrapper', 'wry', 'wtrw', 'wuho', 'wun2', 'wupA', 'wus', 'y', 'yellow-b', 'yellow-c', 'yellow-d', 'yellow-e', 'yellow-e2', 'yellow-e3', 'yellow-f2', 'yellow-g', 'yellow-h', 'yin', 'yip2', 'yip7', 'yl', 'yuri', 'zfh1', 'zfh2', 'zld', 'zormin', 'zpg', 'zyd', 'zye']\n"
     ]
    }
   ],
   "source": [
    "# Path to your pickle file\n",
    "file_path = os.path.join(\n",
    "    Code_dir,\n",
    "    \"Data\",\n",
    "    \"uncorrected\",\n",
    "    \"head\",\n",
    "    \"CNN\",\n",
    "    \"age\",\n",
    "    \"full_data\",\n",
    "    \"celltype_all\",\n",
    "    \"sextype_all\",\n",
    "    \"highly_variable_genes.pkl\",\n",
    ")\n",
    "\n",
    "# Load the pickle file\n",
    "with open(file_path, \"rb\") as file:\n",
    "    data = pickle.load(file)\n",
    "\n",
    "# Inspect the contents\n",
    "print(data)  # Print the content (if not too large)"
   ]
  },
  {
   "cell_type": "code",
   "execution_count": 6,
   "metadata": {},
   "outputs": [],
   "source": [
    "# Decision for dataset based on batch_correction\n",
    "dataset_to_use = adata_corrected if config[\"batch_correction\"] else adata\n",
    "\n",
    "# Perform a stratified train-test split based on encoding variable\n",
    "train_subset, test_subset = train_test_split(\n",
    "    dataset_to_use,\n",
    "    stratify=dataset_to_use.obs[config[\"encoding_variable\"]],\n",
    "    test_size=0.2,\n",
    "    random_state=42,\n",
    ")\n",
    "\n",
    "if config[\"select_batch_genes\"].lower() == \"yes\" and not config[\"batch_correction\"]:\n",
    "    # Apply gene selection from corrected data if specified and not already using corrected data\n",
    "    train_subset = train_subset[:, adata_corrected.var_names]\n",
    "    test_subset = test_subset[:, adata_corrected.var_names]"
   ]
  },
  {
   "cell_type": "code",
   "execution_count": 14,
   "metadata": {},
   "outputs": [
    {
     "data": {
      "text/plain": [
       "{'IncRNA:roX1': None,\n",
       " 'IncRNA:roX2': 'lncRNA:roX2',\n",
       " 'IncRNA:noe': 'lncRNA:noe',\n",
       " 'unc-13': 'unc-13-4A',\n",
       " 'IncRA:CR34335': 'lncRNA:CR34335',\n",
       " 'Ank2': None,\n",
       " 'Hsp83': 'Hsp83',\n",
       " 'Sh': 'Shark',\n",
       " 'CG4467': 'CG4467',\n",
       " 'pan': None,\n",
       " 'CG17684': None,\n",
       " 'ninaE': 'ninaE',\n",
       " 'rdgA': 'rdgA',\n",
       " 'nrv3': None,\n",
       " 'IncRA:CR43836': 'lncRNA:CR43836',\n",
       " 'CG10077': None,\n",
       " 'IncRNA:Hsromega': 'lncRNA:Hsromega',\n",
       " 'Syt1': None,\n",
       " 'Pdp1': None,\n",
       " 'CG41378': None}"
      ]
     },
     "execution_count": 14,
     "metadata": {},
     "output_type": "execute_result"
    }
   ],
   "source": [
    "var_names = pd.DataFrame(train_subset.X.todense(), columns=train_subset.var_names)\n",
    "train_subset.obs = train_subset.obs.reset_index(drop=False)\n",
    "var_names[\"sex\"] = train_subset.obs[\"sex\"]\n",
    "var_names[\"age\"] = train_subset.obs[\"age\"]\n",
    "\n",
    "# Corrected list of top genes\n",
    "corrected_top_genes = [\n",
    "    \"IncRNA:roX1\",\n",
    "    \"IncRNA:roX2\",\n",
    "    \"IncRNA:noe\",\n",
    "    \"unc-13\",\n",
    "    \"IncRA:CR34335\",\n",
    "    \"Ank2\",\n",
    "    \"Hsp83\",\n",
    "    \"Sh\",\n",
    "    \"CG4467\",\n",
    "    \"pan\",\n",
    "    \"CG17684\",\n",
    "    \"ninaE\",\n",
    "    \"rdgA\",\n",
    "    \"nrv3\",\n",
    "    \"IncRA:CR43836\",\n",
    "    \"CG10077\",\n",
    "    \"IncRNA:Hsromega\",\n",
    "    \"Syt1\",\n",
    "    \"Pdp1\",\n",
    "    \"CG41378\",\n",
    "]\n",
    "\n",
    "# Find columns in the DataFrame that closely match the genes in the corrected_top_genes list\n",
    "matched_genes_corrected = {}\n",
    "for gene in corrected_top_genes:\n",
    "    # Split the gene by \":\" and get the last element to find potential matches\n",
    "    gene_part = gene.split(\":\")[-1]\n",
    "    potential_matches = [col for col in var_names.columns if gene_part in col]\n",
    "    if potential_matches:\n",
    "        matched_genes_corrected[gene] = potential_matches[0]\n",
    "    else:\n",
    "        matched_genes_corrected[gene] = None\n",
    "\n",
    "matched_genes_corrected"
   ]
  },
  {
   "cell_type": "code",
   "execution_count": 14,
   "metadata": {},
   "outputs": [
    {
     "data": {
      "text/plain": [
       "{'IncRNA:roX1': None,\n",
       " 'IncRNA:roX2': 'lncRNA:roX2',\n",
       " 'IncRNA:noe': 'lncRNA:noe',\n",
       " 'unc-13': 'unc-13-4A',\n",
       " 'IncRA:CR34335': 'lncRNA:CR34335',\n",
       " 'Ank2': None,\n",
       " 'Hsp83': 'Hsp83',\n",
       " 'Sh': 'Shark',\n",
       " 'CG4467': 'CG4467',\n",
       " 'pan': None,\n",
       " 'CG17684': None,\n",
       " 'ninaE': 'ninaE',\n",
       " 'rdgA': 'rdgA',\n",
       " 'nrv3': None,\n",
       " 'IncRA:CR43836': 'lncRNA:CR43836',\n",
       " 'CG10077': None,\n",
       " 'IncRNA:Hsromega': 'lncRNA:Hsromega',\n",
       " 'Syt1': None,\n",
       " 'Pdp1': None,\n",
       " 'CG41378': None}"
      ]
     },
     "execution_count": 14,
     "metadata": {},
     "output_type": "execute_result"
    }
   ],
   "source": [
    "df_expression = pd.DataFrame(adata_batch.X.todense(), columns=adata_batch.var_names)\n",
    "adata_batch.obs = adata_batch.obs.reset_index(drop=False)\n",
    "df_expression[\"sex\"] = adata_batch.obs[\"sex\"]\n",
    "df_expression[\"age\"] = adata_batch.obs[\"age\"]\n",
    "\n",
    "# Corrected list of top genes\n",
    "corrected_top_genes = [\n",
    "    \"IncRNA:roX1\",\n",
    "    \"IncRNA:roX2\",\n",
    "    \"IncRNA:noe\",\n",
    "    \"unc-13\",\n",
    "    \"IncRA:CR34335\",\n",
    "    \"Ank2\",\n",
    "    \"Hsp83\",\n",
    "    \"Sh\",\n",
    "    \"CG4467\",\n",
    "    \"pan\",\n",
    "    \"CG17684\",\n",
    "    \"ninaE\",\n",
    "    \"rdgA\",\n",
    "    \"nrv3\",\n",
    "    \"IncRA:CR43836\",\n",
    "    \"CG10077\",\n",
    "    \"IncRNA:Hsromega\",\n",
    "    \"Syt1\",\n",
    "    \"Pdp1\",\n",
    "    \"CG41378\",\n",
    "]\n",
    "\n",
    "# Find columns in the DataFrame that closely match the genes in the corrected_top_genes list\n",
    "matched_genes_corrected = {}\n",
    "for gene in corrected_top_genes:\n",
    "    # Split the gene by \":\" and get the last element to find potential matches\n",
    "    gene_part = gene.split(\":\")[-1]\n",
    "    potential_matches = [col for col in df_expression.columns if gene_part in col]\n",
    "    if potential_matches:\n",
    "        matched_genes_corrected[gene] = potential_matches[0]\n",
    "    else:\n",
    "        matched_genes_corrected[gene] = None\n",
    "\n",
    "matched_genes_corrected"
   ]
  },
  {
   "cell_type": "code",
   "execution_count": 13,
   "metadata": {},
   "outputs": [
    {
     "data": {
      "text/plain": [
       "True"
      ]
     },
     "execution_count": 13,
     "metadata": {},
     "output_type": "execute_result"
    }
   ],
   "source": [
    "\"18w\" in adata_batch.var_names"
   ]
  },
  {
   "cell_type": "code",
   "execution_count": 15,
   "metadata": {},
   "outputs": [
    {
     "name": "stdout",
     "output_type": "stream",
     "text": [
      "computing PCA\n",
      "    with n_comps=600\n",
      "    finished (0:03:45)\n"
     ]
    },
    {
     "data": {
      "image/png": "[encoded data removed]",
      "text/plain": [
       "<Figure size 640x480 with 1 Axes>"
      ]
     },
     "metadata": {},
     "output_type": "display_data"
    },
    {
     "name": "stdout",
     "output_type": "stream",
     "text": [
      "Total variance explained by the first  PCs: 85.74%\n"
     ]
    }
   ],
   "source": [
    "# Preprocess the data\n",
    "adata_vis = adata_batch.copy()\n",
    "\n",
    "# Preprocess the copy for visualization\n",
    "sc.pp.pca(adata_vis, n_comps=600)\n",
    "sc.pl.pca_variance_ratio(adata_vis, n_pcs=600, log=False)\n",
    "\n",
    "total_variance_explained = sum(adata_vis.uns[\"pca\"][\"variance_ratio\"][:200])\n",
    "print(\n",
    "    f\"Total variance explained by the first  PCs: {total_variance_explained*100:.2f}%\"\n",
    ")"
   ]
  },
  {
   "cell_type": "code",
   "execution_count": 3,
   "metadata": {},
   "outputs": [
    {
     "name": "stdout",
     "output_type": "stream",
     "text": [
      "computing PCA\n",
      "    with n_comps=200\n"
     ]
    }
   ],
   "source": [
    "adata_vis = adata_batch.copy()\n",
    "sc.settings.verbosity = 2\n",
    "sc.pp.pca(adata_vis, n_comps=200)\n",
    "sc.pp.neighbors(adata_vis, n_pcs=200)  # Compute the neighborhood graph\n",
    "sc.tl.umap(adata_vis)\n",
    "sc.pl.umap(\n",
    "    adata_vis, color=\"age\", title=\"after Batch Correction\", save=\"after-correction.png\"\n",
    ")"
   ]
  },
  {
   "cell_type": "code",
   "execution_count": null,
   "metadata": {},
   "outputs": [],
   "source": [
    "adata_list_by_age = [\n",
    "    adata[adata.obs[\"age\"] == age].copy() for age in adata.obs[\"age\"].unique()\n",
    "]\n",
    "corrected_adatas = scanorama.correct_scanpy(adata_list_by_age)\n",
    "corrected_adata = corrected_adatas[0].concatenate(corrected_adatas[1:], batch_key=\"age\")"
   ]
  },
  {
   "cell_type": "code",
   "execution_count": null,
   "metadata": {},
   "outputs": [],
   "source": [
    "sc.pp.pca(corrected_adata, n_comps=600)  # Perform PCA to reduce to 50 components\n",
    "sc.pl.pca_variance_ratio(corrected_adata, n_pcs=600, log=False)\n",
    "\n",
    "total_variance_explained = sum(corrected_adata.uns[\"pca\"][\"variance_ratio\"][:600])\n",
    "print(\n",
    "    f\"Total variance explained by the first  PCs: {total_variance_explained*100:.2f}%\"\n",
    ")"
   ]
  },
  {
   "cell_type": "code",
   "execution_count": null,
   "metadata": {},
   "outputs": [],
   "source": [
    "adata_vis = corrected_adata.copy()\n",
    "sc.settings.verbosity = 2\n",
    "# sc.pp.pca(adata_vis, n_comps=?)\n",
    "# sc.pp.neighbors(adata_vis, n_pcs=?)  # Compute the neighborhood graph\n",
    "sc.tl.umap(adata_vis)\n",
    "sc.pl.umap(\n",
    "    adata_vis, color=\"age\", title=\"After Batch Correction\", save=\"after-correction.png\"\n",
    ")"
   ]
  },
  {
   "cell_type": "code",
   "execution_count": null,
   "metadata": {},
   "outputs": [],
   "source": [
    "# Reading genes from both CSV files\n",
    "autosomal_genes = (\n",
    "    pd.read_csv(os.path.join(Data_dir, \"..\", \"autosomal.csv\"), header=None, dtype=str)\n",
    "    .iloc[:, 0]\n",
    "    .tolist()\n",
    ")\n",
    "sex_genes = (\n",
    "    pd.read_csv(os.path.join(Data_dir, \"..\", \"sex.csv\"), header=None)\n",
    "    .iloc[:, 0]\n",
    "    .tolist()\n",
    ")\n",
    "\n",
    "autosomal_mask = adata.var.index.isin(autosomal_genes)\n",
    "sex_mask = adata.var.index.isin(sex_genes)\n",
    "\n",
    "# Inverting the masks\n",
    "not_autosomal_mask = ~autosomal_mask\n",
    "not_sex_mask = ~sex_mask\n",
    "combined_mask = not_autosomal_mask & not_sex_mask\n",
    "genes_not_in_either = adata.var.index[combined_mask]\n",
    "len(genes_not_in_either)"
   ]
  },
  {
   "cell_type": "code",
   "execution_count": null,
   "metadata": {},
   "outputs": [],
   "source": [
    "adata = adata[adata.obs[\"sex\"] != \"mix\"].copy()\n",
    "\n",
    "# Convert the data to a DataFrame for easier manipulation\n",
    "df_expression = pd.DataFrame(adata.X.todense(), columns=adata.var_names)\n",
    "adata.obs = adata.obs.reset_index(drop=False)\n",
    "df_expression[\"sex\"] = adata.obs[\"sex\"]\n",
    "df_expression[\"age\"] = adata.obs[\"age\"]\n",
    "\n",
    "# Assuming 'adata' is your AnnData object and 'afca_annotation_broad' is a column in adata.obs\n",
    "unique_afca_broad_types = adata.obs[\"afca_annotation_broad\"].unique()\n",
    "\n",
    "# Print the unique afca_annotation_broad types\n",
    "print(unique_afca_broad_types)"
   ]
  },
  {
   "cell_type": "code",
   "execution_count": null,
   "metadata": {},
   "outputs": [],
   "source": [
    "# Corrected list of top genes\n",
    "corrected_top_genes = [\n",
    "    \"IncRNA:roX1\",\n",
    "    \"IncRNA:roX2\",\n",
    "    \"IncRNA:noe\",\n",
    "    \"unc-13\",\n",
    "    \"IncRA:CR34335\",\n",
    "    \"Ank2\",\n",
    "    \"Hsp83\",\n",
    "    \"Sh\",\n",
    "    \"CG4467\",\n",
    "    \"pan\",\n",
    "    \"CG17684\",\n",
    "    \"ninaE\",\n",
    "    \"rdgA\",\n",
    "    \"nrv3\",\n",
    "    \"IncRA:CR43836\",\n",
    "    \"CG10077\",\n",
    "    \"IncRNA:Hsromega\",\n",
    "    \"Syt1\",\n",
    "    \"Pdp1\",\n",
    "    \"CG41378\",\n",
    "]\n",
    "\n",
    "# Find columns in the DataFrame that closely match the genes in the corrected_top_genes list\n",
    "matched_genes_corrected = {}\n",
    "for gene in corrected_top_genes:\n",
    "    # Split the gene by \":\" and get the last element to find potential matches\n",
    "    gene_part = gene.split(\":\")[-1]\n",
    "    potential_matches = [col for col in df_expression.columns if gene_part in col]\n",
    "    if potential_matches:\n",
    "        matched_genes_corrected[gene] = potential_matches[0]\n",
    "    else:\n",
    "        matched_genes_corrected[gene] = None\n",
    "\n",
    "matched_genes_corrected\n",
    "\n",
    "# Filter the dataframe to only include the matched genes and the 'sex' and 'age' columns\n",
    "valid_matched_genes = list(matched_genes_corrected.values())\n",
    "valid_matched_genes = [gene for gene in valid_matched_genes if gene is not None]\n",
    "\n",
    "filtered_df_corrected = df_expression[[\"sex\", \"age\"] + valid_matched_genes]"
   ]
  },
  {
   "cell_type": "code",
   "execution_count": null,
   "metadata": {},
   "outputs": [],
   "source": [
    "# List to store the data for each gene\n",
    "data_list = []\n",
    "\n",
    "for gene in valid_matched_genes:\n",
    "    # Filter the data for the current gene\n",
    "    gene_df = filtered_df_corrected[[\"sex\", \"age\", gene]]\n",
    "\n",
    "    # Group by age, sex, and compute the mean for the current gene\n",
    "    grouped_data = gene_df.groupby([\"sex\", \"age\"]).mean().reset_index()\n",
    "\n",
    "    # Convert data into a format suitable for the dataframe\n",
    "    for index, row in grouped_data.iterrows():\n",
    "        sex_age = f\"{row['sex']}_{row['age']}\"\n",
    "        data_list.append({\"Gene\": gene, \"sex_age\": sex_age, \"Expression\": row[gene]})\n",
    "\n",
    "# Convert the list to a dataframe\n",
    "df_expression_by_gene = pd.DataFrame(data_list)\n",
    "\n",
    "# print gene names\n",
    "df_expression_by_gene[\"Gene\"].unique()\n",
    "\n",
    "# Pivot the dataframe to have genes on the y-axis and sex_age on the x-axis\n",
    "df_pivot = df_expression_by_gene.pivot(\n",
    "    index=\"Gene\", columns=\"sex_age\", values=\"Expression\"\n",
    ")\n",
    "\n",
    "df_pivot"
   ]
  },
  {
   "cell_type": "code",
   "execution_count": null,
   "metadata": {},
   "outputs": [],
   "source": [
    "# Loop through each gene and generate a plot with correctly aligned x-axis\n",
    "for gene in valid_matched_genes:\n",
    "    # Filter the data for the current gene\n",
    "    gene_df = filtered_df_corrected[[\"sex\", \"age\", gene]]\n",
    "\n",
    "    # Group by age and sex and compute the mean for the current gene\n",
    "    grouped_data = gene_df.groupby([\"sex\", \"age\"]).mean().reset_index()\n",
    "    colors = {\"male\": \"blue\", \"female\": \"red\"}\n",
    "\n",
    "    # Plotting with specified colors and annotated data points\n",
    "    plt.figure()\n",
    "    for sex in grouped_data[\"sex\"].unique():\n",
    "        subset = grouped_data[grouped_data[\"sex\"] == sex]\n",
    "        plt.scatter(subset[\"age\"], subset[gene], label=sex, color=colors[sex], s=50)\n",
    "        plt.plot(subset[\"age\"], subset[gene], color=colors[sex], linestyle=\"-\")\n",
    "\n",
    "        # Annotating the data points with their values\n",
    "        for x, y in zip(subset[\"age\"], subset[gene]):\n",
    "            plt.text(\n",
    "                x,\n",
    "                y,\n",
    "                f\"{y:.2f}\",\n",
    "                ha=\"center\",\n",
    "                va=\"bottom\",\n",
    "                fontsize=9,\n",
    "                color=colors[sex],\n",
    "            )\n",
    "\n",
    "    plt.title(f\"Average expression of {gene} over age by sex\")\n",
    "    plt.xlabel(\"Age\")\n",
    "    plt.ylabel(f\"Average expression of {gene}\")\n",
    "    plt.legend()\n",
    "    plt.grid(True, which=\"both\", linestyle=\"--\", linewidth=0.5)\n",
    "    plt.tight_layout()\n",
    "    plt.show()"
   ]
  },
  {
   "cell_type": "code",
   "execution_count": null,
   "metadata": {},
   "outputs": [],
   "source": [
    "def analyze_expression_data(filename: str):\n",
    "    # Given your imports and path setup\n",
    "    Code_dir = os.getcwd()\n",
    "    Data_dir = os.path.join(Code_dir, \"..\", \"Data\", config[\"data_type\"])\n",
    "\n",
    "    # Paths to the h5ad files\n",
    "    h5ad_file_path = os.path.join(Data_dir, config[\"file\"])\n",
    "\n",
    "    # Load the data\n",
    "    adata = sc.read_h5ad(h5ad_file_path)\n",
    "    adata = adata[adata.obs[\"sex\"] != \"mix\"].copy()\n",
    "\n",
    "    # Convert the data to a DataFrame for easier manipulation\n",
    "    df_expression = pd.DataFrame(adata.X.todense(), columns=adata.var_names)\n",
    "    adata.obs = adata.obs.reset_index(drop=False)\n",
    "    df_expression[\"sex\"] = adata.obs[\"sex\"]\n",
    "    df_expression[\"age\"] = adata.obs[\"age\"]\n",
    "\n",
    "    np.random.seed(42)\n",
    "\n",
    "    # Randomly select a subset of genes\n",
    "    random_genes = np.random.choice(\n",
    "        df_expression.columns[:-2], 10, replace=False\n",
    "    )  # Exclude 'sex' and 'age' columns\n",
    "\n",
    "    # Plot density plots for the selected genes\n",
    "    plt.figure(figsize=(12, 6))\n",
    "    for gene in random_genes:\n",
    "        sns.kdeplot(df_expression[gene], label=gene)\n",
    "\n",
    "    plt.title(\"Density Plots for Randomly Selected Genes\")\n",
    "    plt.xlabel(\"Expression Value\")\n",
    "    plt.ylabel(\"Density\")\n",
    "    plt.legend()\n",
    "    plt.grid(True, which=\"both\", linestyle=\"--\", linewidth=0.5)\n",
    "    plt.show()\n",
    "\n",
    "    # Compute descriptive statistics for the selected genes\n",
    "    desc_stats = df_expression[random_genes].describe().transpose()\n",
    "    desc_stats[\"skewness\"] = df_expression[random_genes].skew()\n",
    "    desc_stats[\"kurtosis\"] = df_expression[random_genes].kurt()\n",
    "    print(desc_stats)\n",
    "\n",
    "    # Plot Q-Q plot for a representative gene\n",
    "    plt.figure(figsize=(8, 6))\n",
    "    stats.probplot(df_expression[random_genes[0]].dropna(), plot=plt)\n",
    "    plt.title(f\"Q-Q Plot for Gene: {random_genes[0]}\")\n",
    "    plt.show()\n",
    "\n",
    "    # Display max and min values\n",
    "    max_value = df_expression[random_genes].max().max()\n",
    "    min_value = df_expression[random_genes].min().min()\n",
    "    print(f\"Max Value in the Dataset: {max_value}\")\n",
    "    print(f\"Min Value in the Dataset: {min_value}\")"
   ]
  },
  {
   "cell_type": "code",
   "execution_count": null,
   "metadata": {},
   "outputs": [],
   "source": [
    "analyze_expression_data(\"fly_head_original.h5ad\")"
   ]
  },
  {
   "cell_type": "code",
   "execution_count": null,
   "metadata": {},
   "outputs": [],
   "source": [
    "from sklearn.decomposition import PCA\n",
    "\n",
    "\n",
    "def pca(filename: str):\n",
    "    # Given your imports and path setup\n",
    "    Code_dir = os.getcwd()\n",
    "    Data_dir = os.path.join(Code_dir, \"..\", \"Data\", config[\"data_type\"])\n",
    "\n",
    "    # Paths to the h5ad files\n",
    "    h5ad_file_path = os.path.join(Data_dir, config[\"file\"])\n",
    "\n",
    "    # Load the data\n",
    "    adata = sc.read_h5ad(h5ad_file_path)\n",
    "    adata = adata[adata.obs[\"sex\"] != \"mix\"].copy()\n",
    "\n",
    "    # Conduct PCA\n",
    "    X = np.asarray(adata.X.todense())\n",
    "    pca = PCA(n_components=2)\n",
    "    principal_components = pca.fit_transform(X)\n",
    "\n",
    "    # Convert the principal components to a DataFrame\n",
    "    df_pca = pd.DataFrame(data=principal_components, columns=[\"PC1\", \"PC2\"])\n",
    "    df_pca[\"sex\"] = adata.obs[\"sex\"].values\n",
    "    df_pca[\"age\"] = adata.obs[\"age\"].values\n",
    "\n",
    "    # Plot PCA results colored by biological sex\n",
    "    plt.figure(figsize=(10, 7))\n",
    "    sns.scatterplot(x=\"PC1\", y=\"PC2\", hue=\"sex\", data=df_pca, s=1)\n",
    "    plt.title(\"PCA Results Colored by Biological Sex\")\n",
    "    plt.show()\n",
    "\n",
    "    # Plot PCA results colored by age\n",
    "    plt.figure(figsize=(10, 7))\n",
    "    sns.scatterplot(x=\"PC1\", y=\"PC2\", hue=\"age\", data=df_pca, s=1)\n",
    "    plt.title(\"PCA Results Colored by Age\")\n",
    "    plt.show()"
   ]
  },
  {
   "cell_type": "code",
   "execution_count": null,
   "metadata": {},
   "outputs": [],
   "source": [
    "pca(\"fly_head_original.h5ad\")"
   ]
  }
 ],
 "metadata": {
  "kernelspec": {
   "display_name": "Tensorflow",
   "language": "python",
   "name": "python3"
  },
  "language_info": {
   "codemirror_mode": {
    "name": "ipython",
    "version": 3
   },
   "file_extension": ".py",
   "mimetype": "text/x-python",
   "name": "python",
   "nbconvert_exporter": "python",
   "pygments_lexer": "ipython3",
   "version": "3.9.17"
  },
  "orig_nbformat": 4
 },
 "nbformat": 4,
 "nbformat_minor": 2
}
